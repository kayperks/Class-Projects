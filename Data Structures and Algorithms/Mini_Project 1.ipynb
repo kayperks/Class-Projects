{
  "nbformat": 4,
  "nbformat_minor": 0,
  "metadata": {
    "colab": {
      "name": "Katie-Perkins Mini Project.ipynb",
      "provenance": [],
      "collapsed_sections": []
    },
    "kernelspec": {
      "name": "python3",
      "display_name": "Python 3"
    }
  },
  "cells": [
    {
      "cell_type": "markdown",
      "metadata": {
        "id": "F89aZTpQklCU",
        "colab_type": "text"
      },
      "source": [
        "## **Milestone 1**"
      ]
    },
    {
      "cell_type": "markdown",
      "metadata": {
        "id": "Pkg96vb_kvbW",
        "colab_type": "text"
      },
      "source": [
        "**Step 1** = 10 x 10 Patch"
      ]
    },
    {
      "cell_type": "code",
      "metadata": {
        "id": "DAMbw6lWpKm-",
        "colab_type": "code",
        "colab": {}
      },
      "source": [
        "grid = []  # Create an empty list"
      ],
      "execution_count": null,
      "outputs": []
    },
    {
      "cell_type": "code",
      "metadata": {
        "id": "lFz-_ifgVnSf",
        "colab_type": "code",
        "colab": {}
      },
      "source": [
        "grid = [[(0) for x in range(9)] for y in range(9)] # Create grid "
      ],
      "execution_count": null,
      "outputs": []
    },
    {
      "cell_type": "code",
      "metadata": {
        "id": "lhw1-0nhXKSk",
        "colab_type": "code",
        "colab": {}
      },
      "source": [
        "# Set islands\n",
        "# Island 1\n",
        "grid[1][5] = (1)\n",
        "grid[2][5] = (1)\n",
        "grid[2][6] = (1)\n",
        "grid[3][6] = (1)\n",
        "\n",
        "# Island 2\n",
        "grid[0][1] = (1)\n",
        "grid[0][2] = (1)\n",
        "grid[0][3] = (1)\n",
        "grid[1][2] = (1)\n",
        "grid[1][3] = (1)\n",
        "\n",
        "# Island 3\n",
        "grid[6][1] = (1)\n",
        "grid[6][2] = (1)\n",
        "grid[7][2] = (1)\n",
        "grid[8][2] = (1)\n",
        "grid[8][3] = (1)"
      ],
      "execution_count": null,
      "outputs": []
    },
    {
      "cell_type": "code",
      "metadata": {
        "id": "YF9EnyIHZiJo",
        "colab_type": "code",
        "colab": {
          "base_uri": "https://localhost:8080/",
          "height": 170
        },
        "outputId": "7a496afb-bb3d-47e2-e72a-22af83db84fa"
      },
      "source": [
        "grid"
      ],
      "execution_count": null,
      "outputs": [
        {
          "output_type": "execute_result",
          "data": {
            "text/plain": [
              "[[0, 1, 1, 1, 0, 0, 0, 0, 0],\n",
              " [0, 0, 1, 1, 0, 1, 0, 0, 0],\n",
              " [0, 0, 0, 0, 0, 1, 1, 0, 0],\n",
              " [0, 0, 0, 0, 0, 0, 1, 0, 0],\n",
              " [0, 0, 0, 0, 0, 0, 0, 0, 0],\n",
              " [0, 0, 0, 0, 0, 0, 0, 0, 0],\n",
              " [0, 1, 1, 0, 0, 0, 0, 0, 0],\n",
              " [0, 0, 1, 0, 0, 0, 0, 0, 0],\n",
              " [0, 0, 1, 1, 0, 0, 0, 0, 0]]"
            ]
          },
          "metadata": {
            "tags": []
          },
          "execution_count": 4
        }
      ]
    },
    {
      "cell_type": "code",
      "metadata": {
        "id": "OGEYvH9bbfVF",
        "colab_type": "code",
        "colab": {}
      },
      "source": [
        "import pickle\n",
        "\n",
        "with open('Katie-Perkins.txt', 'wb') as fp:\n",
        "    pickle.dump(grid, fp)"
      ],
      "execution_count": null,
      "outputs": []
    },
    {
      "cell_type": "markdown",
      "metadata": {
        "id": "OO7_hPOWk_58",
        "colab_type": "text"
      },
      "source": [
        "**Step 2** - Return land coordinates from input file"
      ]
    },
    {
      "cell_type": "code",
      "metadata": {
        "id": "pwupmKAadNFV",
        "colab_type": "code",
        "colab": {}
      },
      "source": [
        "with open ('Katie-Perkins.txt', 'rb') as fp:\n",
        "    gridlist = pickle.load(fp)"
      ],
      "execution_count": null,
      "outputs": []
    },
    {
      "cell_type": "code",
      "metadata": {
        "id": "qTNEo7xwdwR1",
        "colab_type": "code",
        "colab": {
          "base_uri": "https://localhost:8080/",
          "height": 255
        },
        "outputId": "3e52aa18-00a1-4792-8603-c57ec0e5ed9d"
      },
      "source": [
        "X=[]\n",
        "for i in range(len(gridlist)):\n",
        "  for j in range(len(gridlist)):\n",
        "   if grid[i][j]==(1):\n",
        "    X.append((i,j))\n",
        "X \n",
        "# m x n patch - mn different coordinates "
      ],
      "execution_count": null,
      "outputs": [
        {
          "output_type": "execute_result",
          "data": {
            "text/plain": [
              "[(0, 1),\n",
              " (0, 2),\n",
              " (0, 3),\n",
              " (1, 2),\n",
              " (1, 3),\n",
              " (1, 5),\n",
              " (2, 5),\n",
              " (2, 6),\n",
              " (3, 6),\n",
              " (6, 1),\n",
              " (6, 2),\n",
              " (7, 2),\n",
              " (8, 2),\n",
              " (8, 3)]"
            ]
          },
          "metadata": {
            "tags": []
          },
          "execution_count": 7
        }
      ]
    },
    {
      "cell_type": "code",
      "metadata": {
        "id": "eY52c72emIF3",
        "colab_type": "code",
        "colab": {
          "base_uri": "https://localhost:8080/",
          "height": 51
        },
        "outputId": "ed60fd4f-0f12-4a77-ebe3-520dd87310bd"
      },
      "source": [
        "m_rows = len(X)\n",
        "print(\"m =\", m_rows)   \n",
        "n_cols = len(X[0]) \n",
        "print(\"n =\", n_cols)   "
      ],
      "execution_count": null,
      "outputs": [
        {
          "output_type": "stream",
          "text": [
            "m = 14\n",
            "n = 2\n"
          ],
          "name": "stdout"
        }
      ]
    },
    {
      "cell_type": "markdown",
      "metadata": {
        "id": "2-C92IMGlM3e",
        "colab_type": "text"
      },
      "source": [
        "**Step 3**"
      ]
    },
    {
      "cell_type": "code",
      "metadata": {
        "id": "SkPERsQuCMOK",
        "colab_type": "code",
        "colab": {}
      },
      "source": [
        "import random"
      ],
      "execution_count": null,
      "outputs": []
    },
    {
      "cell_type": "code",
      "metadata": {
        "id": "5kignoM81YdC",
        "colab_type": "code",
        "colab": {
          "base_uri": "https://localhost:8080/",
          "height": 54
        },
        "outputId": "5811934c-999b-4c6c-9367-aa04381ab0f3"
      },
      "source": [
        "gridlist2=gridlist\n",
        "i=0; j=0\n",
        "for i in range(len(gridlist2)):\n",
        "  for j in range(len(gridlist2)):\n",
        "     gridlist2[i][j] = (gridlist2[i][j],0)\n",
        "print(gridlist2)"
      ],
      "execution_count": null,
      "outputs": [
        {
          "output_type": "stream",
          "text": [
            "[[(0, 0), (1, 0), (1, 0), (1, 0), (0, 0), (0, 0), (0, 0), (0, 0), (0, 0)], [(0, 0), (0, 0), (1, 0), (1, 0), (0, 0), (1, 0), (0, 0), (0, 0), (0, 0)], [(0, 0), (0, 0), (0, 0), (0, 0), (0, 0), (1, 0), (1, 0), (0, 0), (0, 0)], [(0, 0), (0, 0), (0, 0), (0, 0), (0, 0), (0, 0), (1, 0), (0, 0), (0, 0)], [(0, 0), (0, 0), (0, 0), (0, 0), (0, 0), (0, 0), (0, 0), (0, 0), (0, 0)], [(0, 0), (0, 0), (0, 0), (0, 0), (0, 0), (0, 0), (0, 0), (0, 0), (0, 0)], [(0, 0), (1, 0), (1, 0), (0, 0), (0, 0), (0, 0), (0, 0), (0, 0), (0, 0)], [(0, 0), (0, 0), (1, 0), (0, 0), (0, 0), (0, 0), (0, 0), (0, 0), (0, 0)], [(0, 0), (0, 0), (1, 0), (1, 0), (0, 0), (0, 0), (0, 0), (0, 0), (0, 0)]]\n"
          ],
          "name": "stdout"
        }
      ]
    },
    {
      "cell_type": "code",
      "metadata": {
        "id": "u_gIiRqKYC4d",
        "colab_type": "code",
        "colab": {}
      },
      "source": [
        "## Please disregard; Setting all third coordinates to a number greater then 100 that increases by 1 for each, since these numbers won't be randomly created by the next function, CoordinateToNumber. \n",
        "def CoordinateToNumbers(i,j,m,n): \n",
        "  m=len(X)\n",
        "  n=len(X[0])\n",
        "  i=0;j=0;k=100\n",
        "  for i in range(len(gridlist2)):\n",
        "    for j in range(len(gridlist2)):\n",
        "      if gridlist2[i][j] == (gridlist2[i][j][0],0):\n",
        "       gridlist2[i][j] = (gridlist2[i][j][0],k+1)\n",
        "       k += 1\n",
        "  i += 1;j += 1;k += 1\n",
        "  return "
      ],
      "execution_count": null,
      "outputs": []
    },
    {
      "cell_type": "code",
      "metadata": {
        "id": "V0G_2E54ZV8i",
        "colab_type": "code",
        "colab": {}
      },
      "source": [
        "CoordinateToNumbers(0,0,0,0)"
      ],
      "execution_count": null,
      "outputs": []
    },
    {
      "cell_type": "code",
      "metadata": {
        "id": "-d8nI_Ohlgb8",
        "colab_type": "code",
        "colab": {
          "base_uri": "https://localhost:8080/",
          "height": 34
        },
        "outputId": "c0711087-79b2-4c76-e32e-616cb1c7ebd3"
      },
      "source": [
        "gridlist2[1][1][1]"
      ],
      "execution_count": null,
      "outputs": [
        {
          "output_type": "execute_result",
          "data": {
            "text/plain": [
              "111"
            ]
          },
          "metadata": {
            "tags": []
          },
          "execution_count": 13
        }
      ]
    },
    {
      "cell_type": "code",
      "metadata": {
        "id": "KDk7IXOWi9B9",
        "colab_type": "code",
        "colab": {}
      },
      "source": [
        "def CoordinateToNumber(i,j,m,n): \n",
        "  m=len(X)\n",
        "  n=len(X[0])\n",
        "  if gridlist2[i][j] == (gridlist2[i][j][0],gridlist2[i][j][1]) and gridlist2[i][j][1]>=100:\n",
        "    gridlist2[i][j] = (gridlist2[i][j][0],round(random.randint(1,m*n-1),0))\n",
        "  t1=gridlist2[i][j][1]\n",
        "  return t1"
      ],
      "execution_count": null,
      "outputs": []
    },
    {
      "cell_type": "code",
      "metadata": {
        "id": "KAlLK4DXD6iH",
        "colab_type": "code",
        "colab": {}
      },
      "source": [
        "t1=CoordinateToNumber(0,1,0,0) # t1 "
      ],
      "execution_count": null,
      "outputs": []
    },
    {
      "cell_type": "code",
      "metadata": {
        "id": "ZmMMPjv3-QPQ",
        "colab_type": "code",
        "colab": {
          "base_uri": "https://localhost:8080/",
          "height": 34
        },
        "outputId": "46d5d4f5-e721-4f8c-de68-d611f1a9b836"
      },
      "source": [
        "t1"
      ],
      "execution_count": null,
      "outputs": [
        {
          "output_type": "execute_result",
          "data": {
            "text/plain": [
              "2"
            ]
          },
          "metadata": {
            "tags": []
          },
          "execution_count": 16
        }
      ]
    },
    {
      "cell_type": "code",
      "metadata": {
        "id": "CCjCf1Nh1lI1",
        "colab_type": "code",
        "colab": {}
      },
      "source": [
        "t2=CoordinateToNumber(0,3,0,0) # t2"
      ],
      "execution_count": null,
      "outputs": []
    },
    {
      "cell_type": "code",
      "metadata": {
        "id": "GPBosIz6Veku",
        "colab_type": "code",
        "colab": {
          "base_uri": "https://localhost:8080/",
          "height": 34
        },
        "outputId": "68e0d9a4-db2f-4cb1-ea3e-375031b2b0dd"
      },
      "source": [
        "t2"
      ],
      "execution_count": null,
      "outputs": [
        {
          "output_type": "execute_result",
          "data": {
            "text/plain": [
              "3"
            ]
          },
          "metadata": {
            "tags": []
          },
          "execution_count": 18
        }
      ]
    },
    {
      "cell_type": "markdown",
      "metadata": {
        "id": "jUVg_aalv4Bu",
        "colab_type": "text"
      },
      "source": [
        "**Step 4**"
      ]
    },
    {
      "cell_type": "code",
      "metadata": {
        "id": "m89DxB9roAc4",
        "colab_type": "code",
        "colab": {}
      },
      "source": [
        "def NumberToCoordinate(t,m,n):\n",
        "  m=len(X)\n",
        "  n=len(X[0])\n",
        "  i=0;j=0\n",
        "  for i in range(len(gridlist2)):\n",
        "    for j in range(len(gridlist2)):\n",
        "      if gridlist2[i][j][1]==t:\n",
        "       print((i,j))"
      ],
      "execution_count": null,
      "outputs": []
    },
    {
      "cell_type": "code",
      "metadata": {
        "id": "EDxEjEV8x_H4",
        "colab_type": "code",
        "colab": {
          "base_uri": "https://localhost:8080/",
          "height": 34
        },
        "outputId": "8f1ed7d1-b0af-4241-c884-4c553c3799df"
      },
      "source": [
        "NumberToCoordinate(t1,0,0)"
      ],
      "execution_count": null,
      "outputs": [
        {
          "output_type": "stream",
          "text": [
            "(0, 1)\n"
          ],
          "name": "stdout"
        }
      ]
    },
    {
      "cell_type": "code",
      "metadata": {
        "id": "_NmGguo1zTrF",
        "colab_type": "code",
        "colab": {
          "base_uri": "https://localhost:8080/",
          "height": 34
        },
        "outputId": "1832d7f5-bb12-4fb0-c1d7-d2f89e05d5c7"
      },
      "source": [
        "# identity test\n",
        "NumberToCoordinate(CoordinateToNumber(0,1,0,0),0,0)"
      ],
      "execution_count": null,
      "outputs": [
        {
          "output_type": "stream",
          "text": [
            "(0, 1)\n"
          ],
          "name": "stdout"
        }
      ]
    },
    {
      "cell_type": "markdown",
      "metadata": {
        "id": "4zcWDxnizPDB",
        "colab_type": "text"
      },
      "source": [
        "**Step 5**"
      ]
    },
    {
      "cell_type": "code",
      "metadata": {
        "id": "LF_JWvHI2-H4",
        "colab_type": "code",
        "colab": {}
      },
      "source": [
        "import operator "
      ],
      "execution_count": null,
      "outputs": []
    },
    {
      "cell_type": "code",
      "metadata": {
        "id": "GuPDkC7s0wgC",
        "colab_type": "code",
        "colab": {}
      },
      "source": [
        "def Distance(t1,t2): \n",
        "  m=len(X)\n",
        "  n=len(X[0])\n",
        "  i=0;j=0;k=0;l=0\n",
        "  for i in range(len(gridlist2)):\n",
        "    for j in range(len(gridlist2)):\n",
        "      for k in range(len(gridlist2)):\n",
        "        for l in range(len(gridlist2)):\n",
        "         if gridlist2[i][j][1]==t1 and gridlist2[k][l][1]==t2:\n",
        "           print(tuple(map(operator.sub, (i,j), (k,l))))"
      ],
      "execution_count": null,
      "outputs": []
    },
    {
      "cell_type": "code",
      "metadata": {
        "id": "m8mw2juE2FYo",
        "colab_type": "code",
        "colab": {
          "base_uri": "https://localhost:8080/",
          "height": 34
        },
        "outputId": "8c9f69a6-5a03-4cc2-8eda-46c32e5a2c18"
      },
      "source": [
        "Distance(t1,t2)"
      ],
      "execution_count": null,
      "outputs": [
        {
          "output_type": "stream",
          "text": [
            "(0, -2)\n"
          ],
          "name": "stdout"
        }
      ]
    },
    {
      "cell_type": "markdown",
      "metadata": {
        "id": "ph49k_sD3e5s",
        "colab_type": "text"
      },
      "source": [
        "## **Milestone 2**"
      ]
    },
    {
      "cell_type": "markdown",
      "metadata": {
        "id": "_1SEZ0CF3yax",
        "colab_type": "text"
      },
      "source": [
        "**Step 6**"
      ]
    },
    {
      "cell_type": "code",
      "metadata": {
        "id": "DlAbCjXiZmAn",
        "colab_type": "code",
        "colab": {}
      },
      "source": [
        "def GenerateNeighbors(t1,n,m): \n",
        "  GN=[];coor=[]\n",
        "  m=len(X)\n",
        "  n=len(X[0])\n",
        "  i=0;j=0\n",
        "  for i in range(len(gridlist2)):\n",
        "    for j in range(len(gridlist2)):\n",
        "      if gridlist2[i][j][1]==t1 and i>=0:\n",
        "        GN.append(gridlist2[i+1][j])\n",
        "        coor.append((i+1,j))\n",
        "\n",
        "      if gridlist2[i][j][1]==t1 and i>0:\n",
        "        GN.append(gridlist2[i-1][j])\n",
        "        coor.append((i-1,j))\n",
        "\n",
        "      if gridlist2[i][j][1]==t1 and j>=0:\n",
        "        GN.append(gridlist2[i][j+1])\n",
        "        coor.append((i,j+1))\n",
        "\n",
        "      if gridlist2[i][j][1]==t1 and j>0:       \n",
        "        GN.append(gridlist2[i][j-1])\n",
        "        coor.append((i,j-1))\n",
        "        print(GN)\n",
        "        #print(coor)"
      ],
      "execution_count": null,
      "outputs": []
    },
    {
      "cell_type": "code",
      "metadata": {
        "id": "Vvv9uNt4_8rB",
        "colab_type": "code",
        "colab": {
          "base_uri": "https://localhost:8080/",
          "height": 34
        },
        "outputId": "8816ff46-9e2a-41f4-e228-a020f8c50ec8"
      },
      "source": [
        "GenerateNeighbors(t1,0,0)"
      ],
      "execution_count": null,
      "outputs": [
        {
          "output_type": "stream",
          "text": [
            "[(0, 111), (1, 103), (0, 101)]\n"
          ],
          "name": "stdout"
        }
      ]
    },
    {
      "cell_type": "markdown",
      "metadata": {
        "id": "trop3tUjB3ea",
        "colab_type": "text"
      },
      "source": [
        "**Step 7**"
      ]
    },
    {
      "cell_type": "code",
      "metadata": {
        "id": "Fumh6GZu0nyO",
        "colab_type": "code",
        "colab": {
          "base_uri": "https://localhost:8080/",
          "height": 34
        },
        "outputId": "c16131ca-9bfa-42b2-ff1d-2f3b29793815"
      },
      "source": [
        "gridlist2[8][2]"
      ],
      "execution_count": null,
      "outputs": [
        {
          "output_type": "execute_result",
          "data": {
            "text/plain": [
              "(1, 175)"
            ]
          },
          "metadata": {
            "tags": []
          },
          "execution_count": 27
        }
      ]
    },
    {
      "cell_type": "code",
      "metadata": {
        "id": "0qkZh75tB5xF",
        "colab_type": "code",
        "colab": {}
      },
      "source": [
        "def ExploreIsland(t1,n,m):\n",
        "  dict_I={};dict_coor={}\n",
        "  m=len(X);n=len(X[0])\n",
        "  i=0;j=0\n",
        "  for i in range(len(gridlist2)-1):\n",
        "    for j in range(len(gridlist2)-1): \n",
        "     #for t1 in (t1,27,103,112):\n",
        "     #for t1 in (115,124,125,134):\n",
        "     for t1 in (156,157,166,175,176):\n",
        "      if gridlist2[i][j][1]==t1 and i>=0 and gridlist2[i][j][0]==1 and t1 not in dict_I:\n",
        "        dict_coor=({gridlist2[i][j][1] :(i,j)})\n",
        "        dict_I=({gridlist2[i][j][1] :gridlist2[i][j]})\n",
        "\n",
        "      if gridlist2[i][j][1]==t1 and i>=0 and gridlist2[i+1][j][0]==1  and gridlist2[i+1][j][1] not in dict_I:\n",
        "        dict_coor.update({gridlist2[i+1][j][1] :(i+1,j)})\n",
        "        dict_I.update({gridlist2[i+1][j][1] :gridlist2[i+1][j]})\n",
        "\n",
        "      if gridlist2[i][j][1]==t1 and i>0 and gridlist2[i-1][j][0]==1  and gridlist2[i-1][j][1] not in dict_I:\n",
        "        dict_coor.update({gridlist2[i-1][j][1] :(i-1,j)})\n",
        "        dict_I.update({gridlist2[i-1][j][1] :gridlist2[i-1][j]})\n",
        "\n",
        "      if gridlist2[i][j][1]==t1 and j<8 and gridlist2[i][j+1][0]==1  and gridlist2[i][j+1][1] not in dict_I: \n",
        "        dict_coor.update({gridlist2[i][j+1][1] :(i,j+1)})\n",
        "        dict_I.update({gridlist2[i][j+1][1] :gridlist2[i][j+1]})\n",
        "\n",
        "      if gridlist2[i][j][1]==t1 and j<=8 and gridlist2[i][j-1][0]==1  and gridlist2[i][j-1][1] not in dict_I:  \n",
        "        dict_coor.update({gridlist2[i][j-1][1] :(i,j-1)})     \n",
        "        dict_I.update({gridlist2[i][j-1][1] :gridlist2[i][j-1]}) \n",
        "\n",
        "  print(dict_I)\n",
        "  print(dict_coor)"
      ],
      "execution_count": null,
      "outputs": []
    },
    {
      "cell_type": "code",
      "metadata": {
        "id": "LU1c_jmaD3Zq",
        "colab_type": "code",
        "colab": {
          "base_uri": "https://localhost:8080/",
          "height": 51
        },
        "outputId": "e6e0cc28-1fae-4c9e-c82f-53cad40350f6"
      },
      "source": [
        "ExploreIsland(t1,0,0)"
      ],
      "execution_count": null,
      "outputs": [
        {
          "output_type": "stream",
          "text": [
            "{156: (1, 156), 157: (1, 157), 166: (1, 166), 175: (1, 175)}\n",
            "{156: (6, 1), 157: (6, 2), 166: (7, 2), 175: (8, 2)}\n"
          ],
          "name": "stdout"
        }
      ]
    },
    {
      "cell_type": "markdown",
      "metadata": {
        "id": "3YdkSPV76A7h",
        "colab_type": "text"
      },
      "source": [
        "**Step 8**"
      ]
    },
    {
      "cell_type": "code",
      "metadata": {
        "id": "Jne5S-8b7c9_",
        "colab_type": "code",
        "colab": {}
      },
      "source": [
        "LandCell_List = [10,11,25,12,50,51,80,81,82]\n",
        "Island_List = [[10,11,12],[25],[50,51],[80,81,82]]"
      ],
      "execution_count": null,
      "outputs": []
    },
    {
      "cell_type": "code",
      "metadata": {
        "id": "oUvUTMUY_gNI",
        "colab_type": "code",
        "colab": {
          "base_uri": "https://localhost:8080/",
          "height": 34
        },
        "outputId": "ec517881-ce18-4614-b4e8-a3073df25adc"
      },
      "source": [
        "LandCell_List.sort()\n",
        "LandCell_List"
      ],
      "execution_count": null,
      "outputs": [
        {
          "output_type": "execute_result",
          "data": {
            "text/plain": [
              "[10, 11, 12, 25, 50, 51, 80, 81, 82]"
            ]
          },
          "metadata": {
            "tags": []
          },
          "execution_count": 31
        }
      ]
    },
    {
      "cell_type": "code",
      "metadata": {
        "id": "JltG5nphdsXW",
        "colab_type": "code",
        "colab": {
          "base_uri": "https://localhost:8080/",
          "height": 34
        },
        "outputId": "91c3b2e6-ea70-4019-f914-ea4f43ea7396"
      },
      "source": [
        "import numpy as np\n",
        "x = LandCell_List\n",
        "print(np.split(x, [3,4,6]))"
      ],
      "execution_count": null,
      "outputs": [
        {
          "output_type": "stream",
          "text": [
            "[array([10, 11, 12]), array([25]), array([50, 51]), array([80, 81, 82])]\n"
          ],
          "name": "stdout"
        }
      ]
    },
    {
      "cell_type": "markdown",
      "metadata": {
        "id": "8sqjazgx7aie",
        "colab_type": "text"
      },
      "source": [
        "## **Milestone 3**"
      ]
    },
    {
      "cell_type": "markdown",
      "metadata": {
        "id": "7gMVgjEb7gUr",
        "colab_type": "text"
      },
      "source": [
        "**Step 9**"
      ]
    },
    {
      "cell_type": "code",
      "metadata": {
        "id": "NFePkk7vjccW",
        "colab_type": "code",
        "colab": {}
      },
      "source": [
        "isl1=[(1, 5),(2, 5),(2, 6),(3, 6)]"
      ],
      "execution_count": null,
      "outputs": []
    },
    {
      "cell_type": "code",
      "metadata": {
        "id": "MGIxUzCgiAxa",
        "colab_type": "code",
        "colab": {}
      },
      "source": [
        "isl2=[(0, 1),(0, 2),(1, 2),(0, 3),(1, 3)]"
      ],
      "execution_count": null,
      "outputs": []
    },
    {
      "cell_type": "code",
      "metadata": {
        "id": "zMJo7NALdDn8",
        "colab_type": "code",
        "colab": {}
      },
      "source": [
        "isl3=[(6, 1),(6, 2),(7, 2),(8, 2),(8,3)]"
      ],
      "execution_count": null,
      "outputs": []
    },
    {
      "cell_type": "code",
      "metadata": {
        "id": "42eW-bWQS3z3",
        "colab_type": "code",
        "colab": {}
      },
      "source": [
        "Island_List=[isl1,isl2,isl3]"
      ],
      "execution_count": 301,
      "outputs": []
    },
    {
      "cell_type": "code",
      "metadata": {
        "id": "QTJMlIGcfuj9",
        "colab_type": "code",
        "colab": {}
      },
      "source": [
        "def Distance(isl1,isl2):\n",
        "  DistI=[]\n",
        "  m=len(isl1)\n",
        "  n=len(isl2)\n",
        "  for i in range(m):\n",
        "    for j in range(n):\n",
        "      DistI.append((isl2[j][0] - isl1[i][0])**2 + (isl2[j][1] - isl1[i][1])**2)\n",
        "  print(min(DistI))"
      ],
      "execution_count": 326,
      "outputs": []
    },
    {
      "cell_type": "code",
      "metadata": {
        "id": "XHE_fPNblbGw",
        "colab_type": "code",
        "colab": {
          "base_uri": "https://localhost:8080/",
          "height": 34
        },
        "outputId": "3ee88f50-1ff1-4b48-9374-12afe6dfb7a7"
      },
      "source": [
        "Distance(isl1,isl2)"
      ],
      "execution_count": 327,
      "outputs": [
        {
          "output_type": "stream",
          "text": [
            "4\n"
          ],
          "name": "stdout"
        }
      ]
    },
    {
      "cell_type": "code",
      "metadata": {
        "id": "aViNKr7JyEuA",
        "colab_type": "code",
        "colab": {
          "base_uri": "https://localhost:8080/",
          "height": 34
        },
        "outputId": "8a6964b6-bf8a-4c91-ed2e-3de76016de9b"
      },
      "source": [
        "Distance(isl1,isl3)"
      ],
      "execution_count": 330,
      "outputs": [
        {
          "output_type": "stream",
          "text": [
            "25\n"
          ],
          "name": "stdout"
        }
      ]
    },
    {
      "cell_type": "code",
      "metadata": {
        "id": "EIfjsTgLyH6R",
        "colab_type": "code",
        "colab": {
          "base_uri": "https://localhost:8080/",
          "height": 34
        },
        "outputId": "ac550078-a436-4886-e0ec-60b0c0596f49"
      },
      "source": [
        "Distance(isl2,isl3)"
      ],
      "execution_count": 328,
      "outputs": [
        {
          "output_type": "stream",
          "text": [
            "25\n"
          ],
          "name": "stdout"
        }
      ]
    },
    {
      "cell_type": "markdown",
      "metadata": {
        "id": "v_Fy_8n0f4tZ",
        "colab_type": "text"
      },
      "source": [
        "**Step 10**"
      ]
    },
    {
      "cell_type": "code",
      "metadata": {
        "id": "pse55zBbvJHZ",
        "colab_type": "code",
        "colab": {}
      },
      "source": [
        "Dist_Il=[(1, 2),(7, 2),(6, 0)]"
      ],
      "execution_count": 204,
      "outputs": []
    },
    {
      "cell_type": "code",
      "metadata": {
        "id": "5UdeqATQitVQ",
        "colab_type": "code",
        "colab": {}
      },
      "source": [
        "def Island_Graph():\n",
        "    dictIG=({'d(1,2)': Dist_Il[0]})\n",
        "    dictIG.update({'d(7,2)' : Dist_Il[1]})\n",
        "    dictIG.update({'d(6,0)' : Dist_Il[2]})\n",
        "    print(dictIG)"
      ],
      "execution_count": 331,
      "outputs": []
    },
    {
      "cell_type": "code",
      "metadata": {
        "id": "x_qO1G_ajSaP",
        "colab_type": "code",
        "colab": {
          "base_uri": "https://localhost:8080/",
          "height": 34
        },
        "outputId": "d3bacb5e-439d-4fef-bdd8-e605a330454f"
      },
      "source": [
        "Island_Graph()"
      ],
      "execution_count": 248,
      "outputs": [
        {
          "output_type": "stream",
          "text": [
            "{'d(1,2)': (1, 2), 'd(7,2)': (7, 2), 'd(6,0)': (6, 0)}\n"
          ],
          "name": "stdout"
        }
      ]
    },
    {
      "cell_type": "markdown",
      "metadata": {
        "id": "vx2334aWvWu_",
        "colab_type": "text"
      },
      "source": [
        "**Final Step**"
      ]
    },
    {
      "cell_type": "code",
      "metadata": {
        "id": "q1OYqxRx2gXW",
        "colab_type": "code",
        "colab": {
          "base_uri": "https://localhost:8080/",
          "height": 85
        },
        "outputId": "63de61ed-3b5f-49f9-9314-a986bc6cc589"
      },
      "source": [
        "from collections import defaultdict \n",
        "\n",
        "class Graph: \n",
        "  \n",
        "    def __init__(self,vertices): \n",
        "        self.V= vertices  # # of vertices \n",
        "        self.graph = []   # default dictionary for graph \n",
        "\n",
        "    def addEdge(self,u,v,w):  # function to add an edge to graph \n",
        "        self.graph.append([u,v,w]) \n",
        "  \n",
        "    def find(self, parent, i): \n",
        "        if parent[i] == i: \n",
        "            return i \n",
        "        return self.find(parent, parent[i]) \n",
        "  \n",
        "    def union(self, parent, rank, x, y): \n",
        "        xroot = self.find(parent, x) \n",
        "        yroot = self.find(parent, y) \n",
        "  \n",
        "        if rank[xroot] < rank[yroot]: \n",
        "            parent[xroot] = yroot \n",
        "        elif rank[xroot] > rank[yroot]: \n",
        "            parent[yroot] = xroot   \n",
        "        else : \n",
        "            parent[yroot] = xroot \n",
        "            rank[xroot] += 1\n",
        "\n",
        "    def KruskalMST(self):  # Kruskal's MST algorithm \n",
        "        result =[] # blank list  \n",
        "        i = 0;e = 0;\n",
        "# Step 1:  Sort all the edges in non-decreasing order of their weight\n",
        "        self.graph =  sorted(self.graph,key=lambda item: item[2])  \n",
        "        parent = [] ; rank = []   \n",
        "        for node in range(self.V): # Create V subsets with single elements \n",
        "            parent.append(node) \n",
        "            rank.append(0)     \n",
        "        while e < self.V -1 :  # Number of edges to be taken is equal to V-1  \n",
        "# Step 2: Pick the smallest edge and increment the index for next iteration \n",
        "            u,v,w =  self.graph[i] \n",
        "            i = i + 1\n",
        "            x = self.find(parent, u) \n",
        "            y = self.find(parent ,v) \n",
        "            if x != y: \n",
        "                e = e + 1     \n",
        "                result.append([u,v,w]) \n",
        "                self.union(parent, rank, x, y)              \n",
        "        # print the contents of result[] to display the built MST \n",
        "        print(\"The following are the edges for the constructed MST: \")\n",
        "        for u,v,weight  in result: \n",
        "            #print str(u) + \" -- \" + str(v) + \" == \" + str(weight) \n",
        "            print (\"%d -- %d == %d\" % (u,v,weight)) \n",
        "  \n",
        "# Driver code \n",
        "g = Graph(4) \n",
        "g.addEdge(0, 1, 2) \n",
        "g.addEdge(0, 2, 3) \n",
        "g.addEdge(0, 3, 4) \n",
        "g.addEdge(1, 2, 5) \n",
        "  \n",
        "g.KruskalMST()"
      ],
      "execution_count": 300,
      "outputs": [
        {
          "output_type": "stream",
          "text": [
            "The following are the edges for the constructed MST: \n",
            "0 -- 1 == 2\n",
            "0 -- 2 == 3\n",
            "0 -- 3 == 4\n"
          ],
          "name": "stdout"
        }
      ]
    }
  ]
}
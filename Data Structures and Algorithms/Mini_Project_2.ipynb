{
  "nbformat": 4,
  "nbformat_minor": 0,
  "metadata": {
    "colab": {
      "name": "Mini Project 2 - Katie Perkins.ipynb",
      "provenance": [],
      "collapsed_sections": []
    },
    "kernelspec": {
      "name": "python3",
      "display_name": "Python 3"
    }
  },
  "cells": [
    {
      "cell_type": "markdown",
      "metadata": {
        "id": "UvSo7aeW0f1r",
        "colab_type": "text"
      },
      "source": [
        "**Task 1.**\n",
        "Spend some time reviewing the datasets in the above link. Pick 3 of them, that look interesting to you. One of them must be relatively small (at most 5K nodes), and one of them must be a directed graph. Try to understand their format: these are text ﬁles, but how are these text ﬁles organized in order to signify nodes and edges?"
      ]
    },
    {
      "cell_type": "markdown",
      "metadata": {
        "id": "IKlByx-I0mC8",
        "colab_type": "text"
      },
      "source": [
        "Task #1 Answer:\n",
        "\n",
        "Facebook-\n",
        "The Facebook dataset contains nodes and edges that are combined in the, facebook_combined.txt, file. \n",
        "\n",
        "Github-\n",
        "The Github dataset contains edges that are stored in, musae_git_edges.csv, and nodes that are stored in, musae_git_target.csv.\n",
        "\n",
        "Twitter-\n",
        "The Twitter dataset contains nodes and edges that are combined in the, twitter_combined.txt, file. "
      ]
    },
    {
      "cell_type": "markdown",
      "metadata": {
        "id": "BE6e25o60pVT",
        "colab_type": "text"
      },
      "source": [
        "**Task 2.**\n",
        "Find or write a small interface that you can use to import these data sets into your language environment. The graph must been coded as a list of edges, where each edge is a pair of nodes."
      ]
    },
    {
      "cell_type": "code",
      "metadata": {
        "id": "XQH5nhX80sY0",
        "colab_type": "code",
        "colab": {}
      },
      "source": [
        "import csv\n",
        "import networkx as nx\n",
        "import matplotlib.pyplot as plt\n",
        "import tarfile\n",
        "import pandas as pd\n",
        "import sys \n",
        "import numpy as np\n",
        "import operator\n",
        "from collections import Counter"
      ],
      "execution_count": 1,
      "outputs": []
    },
    {
      "cell_type": "code",
      "metadata": {
        "id": "fMqhapO3z-Pz",
        "colab_type": "code",
        "colab": {
          "resources": {
            "http://localhost:8080/nbextensions/google.colab/files.js": {
              "data": "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",
              "ok": true,
              "headers": [
                [
                  "content-type",
                  "application/javascript"
                ]
              ],
              "status": 200,
              "status_text": ""
            }
          },
          "base_uri": "https://localhost:8080/",
          "height": 72
        },
        "outputId": "a19d50a2-df19-49aa-a5f5-3ebc574d08a4"
      },
      "source": [
        "# Facebook\n",
        "from google.colab import files\n",
        "uploaded = files.upload()"
      ],
      "execution_count": 2,
      "outputs": [
        {
          "output_type": "display_data",
          "data": {
            "text/html": [
              "\n",
              "     <input type=\"file\" id=\"files-1d86b09c-3168-4429-a69d-fa2663fef28a\" name=\"files[]\" multiple disabled\n",
              "        style=\"border:none\" />\n",
              "     <output id=\"result-1d86b09c-3168-4429-a69d-fa2663fef28a\">\n",
              "      Upload widget is only available when the cell has been executed in the\n",
              "      current browser session. Please rerun this cell to enable.\n",
              "      </output>\n",
              "      <script src=\"/nbextensions/google.colab/files.js\"></script> "
            ],
            "text/plain": [
              "<IPython.core.display.HTML object>"
            ]
          },
          "metadata": {
            "tags": []
          }
        },
        {
          "output_type": "stream",
          "text": [
            "Saving facebook_combined.txt to facebook_combined.txt\n"
          ],
          "name": "stdout"
        }
      ]
    },
    {
      "cell_type": "code",
      "metadata": {
        "id": "KqBK-En_95uc",
        "colab_type": "code",
        "colab": {
          "resources": {
            "http://localhost:8080/nbextensions/google.colab/files.js": {
              "data": "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",
              "ok": true,
              "headers": [
                [
                  "content-type",
                  "application/javascript"
                ]
              ],
              "status": 200,
              "status_text": ""
            }
          },
          "base_uri": "https://localhost:8080/",
          "height": 72
        },
        "outputId": "65c0ce52-7edc-4ea3-ae4d-8c52a39aba23"
      },
      "source": [
        "# GitHub - Edges\n",
        "from google.colab import files\n",
        "uploaded = files.upload()"
      ],
      "execution_count": 3,
      "outputs": [
        {
          "output_type": "display_data",
          "data": {
            "text/html": [
              "\n",
              "     <input type=\"file\" id=\"files-973f51bc-a41b-4099-b92b-02ab44027488\" name=\"files[]\" multiple disabled\n",
              "        style=\"border:none\" />\n",
              "     <output id=\"result-973f51bc-a41b-4099-b92b-02ab44027488\">\n",
              "      Upload widget is only available when the cell has been executed in the\n",
              "      current browser session. Please rerun this cell to enable.\n",
              "      </output>\n",
              "      <script src=\"/nbextensions/google.colab/files.js\"></script> "
            ],
            "text/plain": [
              "<IPython.core.display.HTML object>"
            ]
          },
          "metadata": {
            "tags": []
          }
        },
        {
          "output_type": "stream",
          "text": [
            "Saving musae_git_edges.csv to musae_git_edges.csv\n"
          ],
          "name": "stdout"
        }
      ]
    },
    {
      "cell_type": "code",
      "metadata": {
        "id": "kx9PGmp94s8H",
        "colab_type": "code",
        "colab": {
          "resources": {
            "http://localhost:8080/nbextensions/google.colab/files.js": {
              "data": "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",
              "ok": true,
              "headers": [
                [
                  "content-type",
                  "application/javascript"
                ]
              ],
              "status": 200,
              "status_text": ""
            }
          },
          "base_uri": "https://localhost:8080/",
          "height": 72
        },
        "outputId": "61fa2aee-e7ec-4131-d93c-624703cc08d2"
      },
      "source": [
        "# GitHub - Nodes\n",
        "from google.colab import files\n",
        "uploaded = files.upload()"
      ],
      "execution_count": 4,
      "outputs": [
        {
          "output_type": "display_data",
          "data": {
            "text/html": [
              "\n",
              "     <input type=\"file\" id=\"files-3c5b0b1b-f173-456a-a129-7192373cbc97\" name=\"files[]\" multiple disabled\n",
              "        style=\"border:none\" />\n",
              "     <output id=\"result-3c5b0b1b-f173-456a-a129-7192373cbc97\">\n",
              "      Upload widget is only available when the cell has been executed in the\n",
              "      current browser session. Please rerun this cell to enable.\n",
              "      </output>\n",
              "      <script src=\"/nbextensions/google.colab/files.js\"></script> "
            ],
            "text/plain": [
              "<IPython.core.display.HTML object>"
            ]
          },
          "metadata": {
            "tags": []
          }
        },
        {
          "output_type": "stream",
          "text": [
            "Saving musae_git_target.csv to musae_git_target.csv\n"
          ],
          "name": "stdout"
        }
      ]
    },
    {
      "cell_type": "code",
      "metadata": {
        "id": "Mj73vKRGwNe8",
        "colab_type": "code",
        "colab": {
          "resources": {
            "http://localhost:8080/nbextensions/google.colab/files.js": {
              "data": "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",
              "ok": true,
              "headers": [
                [
                  "content-type",
                  "application/javascript"
                ]
              ],
              "status": 200,
              "status_text": ""
            }
          },
          "base_uri": "https://localhost:8080/",
          "height": 72
        },
        "outputId": "38d1cac2-7638-4992-b98c-15edff5587d7"
      },
      "source": [
        "# Twitter\n",
        "from google.colab import files\n",
        "uploaded = files.upload()"
      ],
      "execution_count": 5,
      "outputs": [
        {
          "output_type": "display_data",
          "data": {
            "text/html": [
              "\n",
              "     <input type=\"file\" id=\"files-e9a824c4-d5b3-4c49-8cc5-3a79ce687573\" name=\"files[]\" multiple disabled\n",
              "        style=\"border:none\" />\n",
              "     <output id=\"result-e9a824c4-d5b3-4c49-8cc5-3a79ce687573\">\n",
              "      Upload widget is only available when the cell has been executed in the\n",
              "      current browser session. Please rerun this cell to enable.\n",
              "      </output>\n",
              "      <script src=\"/nbextensions/google.colab/files.js\"></script> "
            ],
            "text/plain": [
              "<IPython.core.display.HTML object>"
            ]
          },
          "metadata": {
            "tags": []
          }
        },
        {
          "output_type": "stream",
          "text": [
            "Saving twitter_combined.txt to twitter_combined.txt\n"
          ],
          "name": "stdout"
        }
      ]
    },
    {
      "cell_type": "code",
      "metadata": {
        "id": "zYuGXJExCBCQ",
        "colab_type": "code",
        "colab": {
          "base_uri": "https://localhost:8080/",
          "height": 102
        },
        "outputId": "8216eeb2-c24f-4d59-bd58-7221136f1ec9"
      },
      "source": [
        "G_fb = nx.read_edgelist('facebook_combined.txt')\n",
        "print(nx.info(G_fb))"
      ],
      "execution_count": 7,
      "outputs": [
        {
          "output_type": "stream",
          "text": [
            "Name: \n",
            "Type: Graph\n",
            "Number of nodes: 4039\n",
            "Number of edges: 88234\n",
            "Average degree:  43.6910\n"
          ],
          "name": "stdout"
        }
      ]
    },
    {
      "cell_type": "code",
      "metadata": {
        "id": "35_VCgdFCCvK",
        "colab_type": "code",
        "colab": {
          "base_uri": "https://localhost:8080/",
          "height": 102
        },
        "outputId": "6a3a52a0-92fe-4e02-e815-cb79222fefe4"
      },
      "source": [
        "G_tw = nx.read_edgelist('twitter_combined.txt')\n",
        "print(nx.info(G_tw))"
      ],
      "execution_count": 8,
      "outputs": [
        {
          "output_type": "stream",
          "text": [
            "Name: \n",
            "Type: Graph\n",
            "Number of nodes: 81306\n",
            "Number of edges: 1342310\n",
            "Average degree:  33.0187\n"
          ],
          "name": "stdout"
        }
      ]
    },
    {
      "cell_type": "code",
      "metadata": {
        "id": "xbbgVNnqwZ0w",
        "colab_type": "code",
        "colab": {
          "base_uri": "https://localhost:8080/",
          "height": 102
        },
        "outputId": "3201d435-7173-481f-9e83-6d985b3adf17"
      },
      "source": [
        "#G_gh = nx.read_edgelist('musae_git_edges.csv')\n",
        "\n",
        "# Read in the nodelist file\n",
        "with open('musae_git_target.csv', 'r') as nodecsv:\n",
        "    nodereader = csv.reader(nodecsv)\n",
        "    nodes = [n for n in nodereader][1:]\n",
        "\n",
        "# Get a list of just the node names (the first item in each row)\n",
        "node_names = [n[0] for n in nodes]\n",
        "\n",
        "# Read in the edgelist file\n",
        "with open('musae_git_edges.csv', 'r') as edgecsv:\n",
        "    edgereader = csv.reader(edgecsv)\n",
        "    edges = [tuple(e) for e in edgereader][1:]\n",
        "\n",
        "G_gh = nx.Graph()                # Initialize a Graph object\n",
        "G_gh.add_nodes_from(node_names)  # Add nodes to the Graph\n",
        "G_gh.add_edges_from(edges)       # Add edges to the Graph\n",
        "print(nx.info(G_gh))"
      ],
      "execution_count": 9,
      "outputs": [
        {
          "output_type": "stream",
          "text": [
            "Name: \n",
            "Type: Graph\n",
            "Number of nodes: 37700\n",
            "Number of edges: 289003\n",
            "Average degree:  15.3317\n"
          ],
          "name": "stdout"
        }
      ]
    },
    {
      "cell_type": "markdown",
      "metadata": {
        "id": "kY3YanQx5CVa",
        "colab_type": "text"
      },
      "source": [
        "**Milestone 1**\n",
        "Start your writeup with a discussion of the characteristics of the data sets you picked, i.e. size, where they come from etc. (5 days) "
      ]
    },
    {
      "cell_type": "markdown",
      "metadata": {
        "id": "v0b78zbnwXAq",
        "colab_type": "text"
      },
      "source": [
        "The datasets I picked to examine for this Mini Project are the Social circles from Facebook (anonymized), the Social circles from Twitter, and the Social network of Github developers. \n",
        "\n",
        "Facebook - \n",
        "1. Characteristics - The Facebook dataset is Undirected. This dataset consists of 'circles' (or 'friends lists') from Facebook. There are 10 ego-networks, consisting of 4,039 users.\n",
        "2. Size - 88234 Edges, and 4039 Nodes. The size of the file, facebook_combined.txt, is 835 KB. \n",
        "3. Where they come from - Data was collected from survey participants using the Facebook app.\n",
        "\n",
        "Twitter - \n",
        "1. Characteristics - The Twitter dataset is Directed. \n",
        "2. Size - 1768149 Edges, and 81306 Nodes. The size of the file, facebook_combined.txt, is 43,506 KB. \n",
        "3. Where they come from - Data was collected from being crawled from public sources. \n",
        "\n",
        "GitHub - \n",
        "1. Characteristics - The GitHub dataset is Undirected. The Nodes of the dataset are developers who have starred at least 10 repositories, and the edges are mutual follower relationships between them. The vertex features are extracted based on the location, repositories starred, employer, and e-mail address.\n",
        "2. Size - 289003 Edges, and 37700 Nodes. The size of the file, musae_git_edges.csv, is 3229 KB, and the size of file, musae_git_target.csv, is 661 KB. \n",
        "3. Where they come from - Data was collected from a public API in June 2019. "
      ]
    },
    {
      "cell_type": "markdown",
      "metadata": {
        "id": "Z3CxscHf5GSO",
        "colab_type": "text"
      },
      "source": [
        "**2. Finding Inﬂuencers. Task 3.**\n",
        "One interesting aspect of social networks is the existence of ‘inﬂuencers’. In a graph these are the nodes with high in-degree. For this task you will have to write a function that ﬁnds the 100 of the nodes with highest in-degree and report them, along with the number of their followers."
      ]
    },
    {
      "cell_type": "markdown",
      "metadata": {
        "id": "CWtOeDT_uWE2",
        "colab_type": "text"
      },
      "source": [
        "Degree - This represents the number of connections a node has. \n",
        "\n",
        "Degree centrality - This is a measure of the number of connections a particular node has in the network.\n",
        "\n",
        "Eigenvector centrality - This decides if a node is important if it is connected to other important nodes.\n",
        "\n",
        "Betweenness Centrality - This is the centrality of control. It represents the frequency at which a point occurs on the geodesic (shortest paths) that connected pair of points. "
      ]
    },
    {
      "cell_type": "code",
      "metadata": {
        "id": "8Zy2QqOz5V9f",
        "colab_type": "code",
        "colab": {}
      },
      "source": [
        "#G_fb.degree()"
      ],
      "execution_count": null,
      "outputs": []
    },
    {
      "cell_type": "code",
      "metadata": {
        "id": "bkOmSXbd1KmT",
        "colab_type": "code",
        "colab": {}
      },
      "source": [
        "#list(G_fb.nodes())\n",
        "#dict(G_fb.degree())"
      ],
      "execution_count": null,
      "outputs": []
    },
    {
      "cell_type": "code",
      "metadata": {
        "id": "DOrVd5DZ1A1c",
        "colab_type": "code",
        "colab": {}
      },
      "source": [
        "#G_fb.nodes(data=True)\n",
        "#Counter(nx.eigenvector_centrality(G)).most_common(10)"
      ],
      "execution_count": null,
      "outputs": []
    },
    {
      "cell_type": "code",
      "metadata": {
        "id": "Wfw5sRXo1WOg",
        "colab_type": "code",
        "colab": {}
      },
      "source": [
        "nx.set_node_attributes(G_fb, dict(G_fb.degree()), 'Degree')\n",
        "nx.set_node_attributes(G_fb, nx.degree_centrality(G_fb), 'Degree Centrality')\n",
        "nx.set_node_attributes(G_fb, nx.eigenvector_centrality(G_fb), 'Eigenvector Centrality')\n",
        "nx.set_node_attributes(G_fb, nx.betweenness_centrality(G_fb), 'Betweenness Centrality')"
      ],
      "execution_count": 10,
      "outputs": []
    },
    {
      "cell_type": "code",
      "metadata": {
        "id": "jfphYapQ01jE",
        "colab_type": "code",
        "colab": {
          "base_uri": "https://localhost:8080/",
          "height": 419
        },
        "outputId": "c397ad30-f966-4f53-cdd5-d3c37052b227"
      },
      "source": [
        "pd.DataFrame.from_dict(\n",
        " dict(G_fb.nodes(data=True)),\n",
        " orient='index'\n",
        ").sort_values('Betweenness Centrality', ascending=False).head(100)"
      ],
      "execution_count": 11,
      "outputs": [
        {
          "output_type": "execute_result",
          "data": {
            "text/html": [
              "<div>\n",
              "<style scoped>\n",
              "    .dataframe tbody tr th:only-of-type {\n",
              "        vertical-align: middle;\n",
              "    }\n",
              "\n",
              "    .dataframe tbody tr th {\n",
              "        vertical-align: top;\n",
              "    }\n",
              "\n",
              "    .dataframe thead th {\n",
              "        text-align: right;\n",
              "    }\n",
              "</style>\n",
              "<table border=\"1\" class=\"dataframe\">\n",
              "  <thead>\n",
              "    <tr style=\"text-align: right;\">\n",
              "      <th></th>\n",
              "      <th>Degree</th>\n",
              "      <th>Degree Centrality</th>\n",
              "      <th>Eigenvector Centrality</th>\n",
              "      <th>Betweenness Centrality</th>\n",
              "    </tr>\n",
              "  </thead>\n",
              "  <tbody>\n",
              "    <tr>\n",
              "      <th>107</th>\n",
              "      <td>1045</td>\n",
              "      <td>0.258791</td>\n",
              "      <td>2.606940e-04</td>\n",
              "      <td>0.480518</td>\n",
              "    </tr>\n",
              "    <tr>\n",
              "      <th>1684</th>\n",
              "      <td>792</td>\n",
              "      <td>0.196137</td>\n",
              "      <td>7.164260e-06</td>\n",
              "      <td>0.337797</td>\n",
              "    </tr>\n",
              "    <tr>\n",
              "      <th>3437</th>\n",
              "      <td>547</td>\n",
              "      <td>0.135463</td>\n",
              "      <td>9.531613e-08</td>\n",
              "      <td>0.236115</td>\n",
              "    </tr>\n",
              "    <tr>\n",
              "      <th>1912</th>\n",
              "      <td>755</td>\n",
              "      <td>0.186974</td>\n",
              "      <td>9.540696e-02</td>\n",
              "      <td>0.229295</td>\n",
              "    </tr>\n",
              "    <tr>\n",
              "      <th>1085</th>\n",
              "      <td>66</td>\n",
              "      <td>0.016345</td>\n",
              "      <td>3.164082e-06</td>\n",
              "      <td>0.149015</td>\n",
              "    </tr>\n",
              "    <tr>\n",
              "      <th>...</th>\n",
              "      <td>...</td>\n",
              "      <td>...</td>\n",
              "      <td>...</td>\n",
              "      <td>...</td>\n",
              "    </tr>\n",
              "    <tr>\n",
              "      <th>2189</th>\n",
              "      <td>113</td>\n",
              "      <td>0.027984</td>\n",
              "      <td>1.198784e-02</td>\n",
              "      <td>0.001003</td>\n",
              "    </tr>\n",
              "    <tr>\n",
              "      <th>606</th>\n",
              "      <td>91</td>\n",
              "      <td>0.022536</td>\n",
              "      <td>1.073341e-05</td>\n",
              "      <td>0.000997</td>\n",
              "    </tr>\n",
              "    <tr>\n",
              "      <th>774</th>\n",
              "      <td>37</td>\n",
              "      <td>0.009163</td>\n",
              "      <td>8.612631e-12</td>\n",
              "      <td>0.000987</td>\n",
              "    </tr>\n",
              "    <tr>\n",
              "      <th>322</th>\n",
              "      <td>72</td>\n",
              "      <td>0.017831</td>\n",
              "      <td>2.689807e-05</td>\n",
              "      <td>0.000964</td>\n",
              "    </tr>\n",
              "    <tr>\n",
              "      <th>1173</th>\n",
              "      <td>115</td>\n",
              "      <td>0.028479</td>\n",
              "      <td>8.957207e-05</td>\n",
              "      <td>0.000942</td>\n",
              "    </tr>\n",
              "  </tbody>\n",
              "</table>\n",
              "<p>100 rows × 4 columns</p>\n",
              "</div>"
            ],
            "text/plain": [
              "      Degree  Degree Centrality  Eigenvector Centrality  Betweenness Centrality\n",
              "107     1045           0.258791            2.606940e-04                0.480518\n",
              "1684     792           0.196137            7.164260e-06                0.337797\n",
              "3437     547           0.135463            9.531613e-08                0.236115\n",
              "1912     755           0.186974            9.540696e-02                0.229295\n",
              "1085      66           0.016345            3.164082e-06                0.149015\n",
              "...      ...                ...                     ...                     ...\n",
              "2189     113           0.027984            1.198784e-02                0.001003\n",
              "606       91           0.022536            1.073341e-05                0.000997\n",
              "774       37           0.009163            8.612631e-12                0.000987\n",
              "322       72           0.017831            2.689807e-05                0.000964\n",
              "1173     115           0.028479            8.957207e-05                0.000942\n",
              "\n",
              "[100 rows x 4 columns]"
            ]
          },
          "metadata": {
            "tags": []
          },
          "execution_count": 11
        }
      ]
    },
    {
      "cell_type": "code",
      "metadata": {
        "id": "1qt9I28dDZLQ",
        "colab_type": "code",
        "colab": {}
      },
      "source": [
        ""
      ],
      "execution_count": null,
      "outputs": []
    },
    {
      "cell_type": "code",
      "metadata": {
        "id": "7x-JHD5NJ4oS",
        "colab_type": "code",
        "colab": {
          "base_uri": "https://localhost:8080/",
          "height": 408
        },
        "outputId": "841f7d6b-8d87-4d66-9434-463b7916b1f2"
      },
      "source": [
        "nx.set_node_attributes(G_tw, dict(G_tw.degree()), 'Degree')\n",
        "#nx.set_node_attributes(G_tw, nx.degree_centrality(G_tw), 'Degree Centrality')\n",
        "#nx.set_node_attributes(G_tw, nx.eigenvector_centrality(G_tw), 'Eigenvector Centrality')\n",
        "nx.set_node_attributes(G_tw, nx.betweenness_centrality(G_tw), 'Betweenness Centrality')"
      ],
      "execution_count": 13,
      "outputs": [
        {
          "output_type": "error",
          "ename": "KeyboardInterrupt",
          "evalue": "ignored",
          "traceback": [
            "\u001b[0;31m---------------------------------------------------------------------------\u001b[0m",
            "\u001b[0;31mKeyboardInterrupt\u001b[0m                         Traceback (most recent call last)",
            "\u001b[0;32m<ipython-input-13-7ad029401eb7>\u001b[0m in \u001b[0;36m<module>\u001b[0;34m()\u001b[0m\n\u001b[1;32m      2\u001b[0m \u001b[0;31m#nx.set_node_attributes(G_tw, nx.degree_centrality(G_tw), 'Degree Centrality')\u001b[0m\u001b[0;34m\u001b[0m\u001b[0;34m\u001b[0m\u001b[0;34m\u001b[0m\u001b[0m\n\u001b[1;32m      3\u001b[0m \u001b[0;31m#nx.set_node_attributes(G_tw, nx.eigenvector_centrality(G_tw), 'Eigenvector Centrality')\u001b[0m\u001b[0;34m\u001b[0m\u001b[0;34m\u001b[0m\u001b[0;34m\u001b[0m\u001b[0m\n\u001b[0;32m----> 4\u001b[0;31m \u001b[0mnx\u001b[0m\u001b[0;34m.\u001b[0m\u001b[0mset_node_attributes\u001b[0m\u001b[0;34m(\u001b[0m\u001b[0mG_tw\u001b[0m\u001b[0;34m,\u001b[0m \u001b[0mnx\u001b[0m\u001b[0;34m.\u001b[0m\u001b[0mbetweenness_centrality\u001b[0m\u001b[0;34m(\u001b[0m\u001b[0mG_tw\u001b[0m\u001b[0;34m)\u001b[0m\u001b[0;34m,\u001b[0m \u001b[0;34m'Betweenness Centrality'\u001b[0m\u001b[0;34m)\u001b[0m\u001b[0;34m\u001b[0m\u001b[0;34m\u001b[0m\u001b[0m\n\u001b[0m",
            "\u001b[0;32m<decorator-gen-246>\u001b[0m in \u001b[0;36mbetweenness_centrality\u001b[0;34m(G, k, normalized, weight, endpoints, seed)\u001b[0m\n",
            "\u001b[0;32m/usr/local/lib/python3.6/dist-packages/networkx/utils/decorators.py\u001b[0m in \u001b[0;36m_random_state\u001b[0;34m(func, *args, **kwargs)\u001b[0m\n\u001b[1;32m    462\u001b[0m         \u001b[0mnew_args\u001b[0m \u001b[0;34m=\u001b[0m \u001b[0mlist\u001b[0m\u001b[0;34m(\u001b[0m\u001b[0margs\u001b[0m\u001b[0;34m)\u001b[0m\u001b[0;34m\u001b[0m\u001b[0;34m\u001b[0m\u001b[0m\n\u001b[1;32m    463\u001b[0m         \u001b[0mnew_args\u001b[0m\u001b[0;34m[\u001b[0m\u001b[0mrandom_state_index\u001b[0m\u001b[0;34m]\u001b[0m \u001b[0;34m=\u001b[0m \u001b[0mrandom_state\u001b[0m\u001b[0;34m\u001b[0m\u001b[0;34m\u001b[0m\u001b[0m\n\u001b[0;32m--> 464\u001b[0;31m         \u001b[0;32mreturn\u001b[0m \u001b[0mfunc\u001b[0m\u001b[0;34m(\u001b[0m\u001b[0;34m*\u001b[0m\u001b[0mnew_args\u001b[0m\u001b[0;34m,\u001b[0m \u001b[0;34m**\u001b[0m\u001b[0mkwargs\u001b[0m\u001b[0;34m)\u001b[0m\u001b[0;34m\u001b[0m\u001b[0;34m\u001b[0m\u001b[0m\n\u001b[0m\u001b[1;32m    465\u001b[0m     \u001b[0;32mreturn\u001b[0m \u001b[0m_random_state\u001b[0m\u001b[0;34m\u001b[0m\u001b[0;34m\u001b[0m\u001b[0m\n",
            "\u001b[0;32m<decorator-gen-245>\u001b[0m in \u001b[0;36mbetweenness_centrality\u001b[0;34m(G, k, normalized, weight, endpoints, seed)\u001b[0m\n",
            "\u001b[0;32m/usr/local/lib/python3.6/dist-packages/networkx/utils/decorators.py\u001b[0m in \u001b[0;36m_not_implemented_for\u001b[0;34m(not_implement_for_func, *args, **kwargs)\u001b[0m\n\u001b[1;32m     80\u001b[0m             \u001b[0;32mraise\u001b[0m \u001b[0mnx\u001b[0m\u001b[0;34m.\u001b[0m\u001b[0mNetworkXNotImplemented\u001b[0m\u001b[0;34m(\u001b[0m\u001b[0mmsg\u001b[0m\u001b[0;34m)\u001b[0m\u001b[0;34m\u001b[0m\u001b[0;34m\u001b[0m\u001b[0m\n\u001b[1;32m     81\u001b[0m         \u001b[0;32melse\u001b[0m\u001b[0;34m:\u001b[0m\u001b[0;34m\u001b[0m\u001b[0;34m\u001b[0m\u001b[0m\n\u001b[0;32m---> 82\u001b[0;31m             \u001b[0;32mreturn\u001b[0m \u001b[0mnot_implement_for_func\u001b[0m\u001b[0;34m(\u001b[0m\u001b[0;34m*\u001b[0m\u001b[0margs\u001b[0m\u001b[0;34m,\u001b[0m \u001b[0;34m**\u001b[0m\u001b[0mkwargs\u001b[0m\u001b[0;34m)\u001b[0m\u001b[0;34m\u001b[0m\u001b[0;34m\u001b[0m\u001b[0m\n\u001b[0m\u001b[1;32m     83\u001b[0m     \u001b[0;32mreturn\u001b[0m \u001b[0m_not_implemented_for\u001b[0m\u001b[0;34m\u001b[0m\u001b[0;34m\u001b[0m\u001b[0m\n\u001b[1;32m     84\u001b[0m \u001b[0;34m\u001b[0m\u001b[0m\n",
            "\u001b[0;32m/usr/local/lib/python3.6/dist-packages/networkx/algorithms/centrality/betweenness.py\u001b[0m in \u001b[0;36mbetweenness_centrality\u001b[0;34m(G, k, normalized, weight, endpoints, seed)\u001b[0m\n\u001b[1;32m    134\u001b[0m         \u001b[0;31m# single source shortest paths\u001b[0m\u001b[0;34m\u001b[0m\u001b[0;34m\u001b[0m\u001b[0;34m\u001b[0m\u001b[0m\n\u001b[1;32m    135\u001b[0m         \u001b[0;32mif\u001b[0m \u001b[0mweight\u001b[0m \u001b[0;32mis\u001b[0m \u001b[0;32mNone\u001b[0m\u001b[0;34m:\u001b[0m  \u001b[0;31m# use BFS\u001b[0m\u001b[0;34m\u001b[0m\u001b[0;34m\u001b[0m\u001b[0m\n\u001b[0;32m--> 136\u001b[0;31m             \u001b[0mS\u001b[0m\u001b[0;34m,\u001b[0m \u001b[0mP\u001b[0m\u001b[0;34m,\u001b[0m \u001b[0msigma\u001b[0m \u001b[0;34m=\u001b[0m \u001b[0m_single_source_shortest_path_basic\u001b[0m\u001b[0;34m(\u001b[0m\u001b[0mG\u001b[0m\u001b[0;34m,\u001b[0m \u001b[0ms\u001b[0m\u001b[0;34m)\u001b[0m\u001b[0;34m\u001b[0m\u001b[0;34m\u001b[0m\u001b[0m\n\u001b[0m\u001b[1;32m    137\u001b[0m         \u001b[0;32melse\u001b[0m\u001b[0;34m:\u001b[0m  \u001b[0;31m# use Dijkstra's algorithm\u001b[0m\u001b[0;34m\u001b[0m\u001b[0;34m\u001b[0m\u001b[0m\n\u001b[1;32m    138\u001b[0m             \u001b[0mS\u001b[0m\u001b[0;34m,\u001b[0m \u001b[0mP\u001b[0m\u001b[0;34m,\u001b[0m \u001b[0msigma\u001b[0m \u001b[0;34m=\u001b[0m \u001b[0m_single_source_dijkstra_path_basic\u001b[0m\u001b[0;34m(\u001b[0m\u001b[0mG\u001b[0m\u001b[0;34m,\u001b[0m \u001b[0ms\u001b[0m\u001b[0;34m,\u001b[0m \u001b[0mweight\u001b[0m\u001b[0;34m)\u001b[0m\u001b[0;34m\u001b[0m\u001b[0;34m\u001b[0m\u001b[0m\n",
            "\u001b[0;32m/usr/local/lib/python3.6/dist-packages/networkx/algorithms/centrality/betweenness.py\u001b[0m in \u001b[0;36m_single_source_shortest_path_basic\u001b[0;34m(G, s)\u001b[0m\n\u001b[1;32m    251\u001b[0m     \u001b[0mP\u001b[0m \u001b[0;34m=\u001b[0m \u001b[0;34m{\u001b[0m\u001b[0;34m}\u001b[0m\u001b[0;34m\u001b[0m\u001b[0;34m\u001b[0m\u001b[0m\n\u001b[1;32m    252\u001b[0m     \u001b[0;32mfor\u001b[0m \u001b[0mv\u001b[0m \u001b[0;32min\u001b[0m \u001b[0mG\u001b[0m\u001b[0;34m:\u001b[0m\u001b[0;34m\u001b[0m\u001b[0;34m\u001b[0m\u001b[0m\n\u001b[0;32m--> 253\u001b[0;31m         \u001b[0mP\u001b[0m\u001b[0;34m[\u001b[0m\u001b[0mv\u001b[0m\u001b[0;34m]\u001b[0m \u001b[0;34m=\u001b[0m \u001b[0;34m[\u001b[0m\u001b[0;34m]\u001b[0m\u001b[0;34m\u001b[0m\u001b[0;34m\u001b[0m\u001b[0m\n\u001b[0m\u001b[1;32m    254\u001b[0m     \u001b[0msigma\u001b[0m \u001b[0;34m=\u001b[0m \u001b[0mdict\u001b[0m\u001b[0;34m.\u001b[0m\u001b[0mfromkeys\u001b[0m\u001b[0;34m(\u001b[0m\u001b[0mG\u001b[0m\u001b[0;34m,\u001b[0m \u001b[0;36m0.0\u001b[0m\u001b[0;34m)\u001b[0m    \u001b[0;31m# sigma[v]=0 for v in G\u001b[0m\u001b[0;34m\u001b[0m\u001b[0;34m\u001b[0m\u001b[0m\n\u001b[1;32m    255\u001b[0m     \u001b[0mD\u001b[0m \u001b[0;34m=\u001b[0m \u001b[0;34m{\u001b[0m\u001b[0;34m}\u001b[0m\u001b[0;34m\u001b[0m\u001b[0;34m\u001b[0m\u001b[0m\n",
            "\u001b[0;31mKeyboardInterrupt\u001b[0m: "
          ]
        }
      ]
    },
    {
      "cell_type": "code",
      "metadata": {
        "id": "0ercnRlKKD0R",
        "colab_type": "code",
        "colab": {}
      },
      "source": [
        "pd.DataFrame.from_dict(\n",
        " dict(G_tw.nodes(data=True)),\n",
        " orient='index'\n",
        ").sort_values('Betweenness Centrality', ascending=False).head(100)"
      ],
      "execution_count": null,
      "outputs": []
    },
    {
      "cell_type": "code",
      "metadata": {
        "id": "4Sfv4uwtr1Bg",
        "colab_type": "code",
        "colab": {}
      },
      "source": [
        ""
      ],
      "execution_count": null,
      "outputs": []
    },
    {
      "cell_type": "code",
      "metadata": {
        "id": "J0nuh7BIr1NP",
        "colab_type": "code",
        "colab": {}
      },
      "source": [
        "nx.set_node_attributes(G_gh, dict(G_gh.degree()), 'Degree')\n",
        "#nx.set_node_attributes(G_gh, nx.degree_centrality(G_gh), 'Degree Centrality')\n",
        "#nx.set_node_attributes(G_gh, nx.eigenvector_centrality(G_gh), 'Eigenvector Centrality')\n",
        "nx.set_node_attributes(G_gh, nx.betweenness_centrality(G_gh), 'Betweenness Centrality')"
      ],
      "execution_count": null,
      "outputs": []
    },
    {
      "cell_type": "code",
      "metadata": {
        "id": "O1owDXdsr4Kw",
        "colab_type": "code",
        "colab": {}
      },
      "source": [
        "pd.DataFrame.from_dict(\n",
        " dict(G_gh.nodes(data=True)),\n",
        " orient='index'\n",
        ").sort_values('Betweenness Centrality', ascending=False).head(100)"
      ],
      "execution_count": null,
      "outputs": []
    },
    {
      "cell_type": "code",
      "metadata": {
        "id": "CaXqHdLIDZhw",
        "colab_type": "code",
        "colab": {}
      },
      "source": [
        ""
      ],
      "execution_count": null,
      "outputs": []
    },
    {
      "cell_type": "markdown",
      "metadata": {
        "id": "hHiGmDkI5LOW",
        "colab_type": "text"
      },
      "source": [
        "**3. Cleaning-up the network.**\n",
        "In a social network people and bots keep opening fake accounts. Such accounts are often ‘isolated’: they are disconnected from the bulk of the network. In graph terms, they may be either non-connected nodes, or small groups of nodes that have some connections to each other but they are not connected to the ‘main’ part of the network. \n",
        "\n",
        "**Task 4.**\n",
        "Write code that will ﬁnd and report these smaller components of the network. More speciﬁcally, you should write code that reports the (simple) connected components of a graph. The output must be an array C with n entries, where n is the number of the nodes in the graph. Each connected component should have an id number. Then, C[i] must be equal to the ID number of the connected component that contains node i. Your code should also output the list of edges comprising the biggest connected component. Note: You should treat the graph as undirected in this part."
      ]
    },
    {
      "cell_type": "markdown",
      "metadata": {
        "id": "L3ICmwf2xCfM",
        "colab_type": "text"
      },
      "source": [
        "Task #4 Answer: \n",
        "\n",
        "Modularity is a measure of relative density in your network: a community (called a module or modularity class) has high density relative to other nodes within its module but low density with those outside."
      ]
    },
    {
      "cell_type": "code",
      "metadata": {
        "id": "gwmk8yuky4Aj",
        "colab_type": "code",
        "colab": {}
      },
      "source": [
        "from networkx.algorithms import community\n",
        "communities = community.greedy_modularity_communities(G_fb)"
      ],
      "execution_count": 16,
      "outputs": []
    },
    {
      "cell_type": "code",
      "metadata": {
        "id": "AeuDsZe5y62J",
        "colab_type": "code",
        "colab": {}
      },
      "source": [
        "modularity_dict = {}                                          # Create a blank dictionary\n",
        "for i,c in enumerate(communities):                            # Loop through the list of communities, keeping track of the number for the community\n",
        "    for name in c:                                            # Loop through each person in a community\n",
        "        modularity_dict[name] = i                             # Create an entry in the dictionary for the person, where the value is which group they belong to.\n",
        "\n",
        "nx.set_node_attributes(G_fb, modularity_dict, 'modularity')   # Add modularity information "
      ],
      "execution_count": 17,
      "outputs": []
    },
    {
      "cell_type": "code",
      "metadata": {
        "id": "uTg3Q8zkvIVM",
        "colab_type": "code",
        "colab": {}
      },
      "source": [
        "def communitiesFb(n):\n",
        " for i,c in enumerate(communities):          # Loop through the list of communities\n",
        "    if len(c) > n:                           # Filter out modularity classes fewer than n nodes\n",
        "        print('C_id= ' + str(i) +',','n=',len(c),list(c))    # Print out the classes and their members"
      ],
      "execution_count": 18,
      "outputs": []
    },
    {
      "cell_type": "code",
      "metadata": {
        "id": "8U1e4OSJ0ehG",
        "colab_type": "code",
        "colab": {
          "base_uri": "https://localhost:8080/",
          "height": 207
        },
        "outputId": "08ce681d-8c03-4737-f095-dfa7e29c5f1f"
      },
      "source": [
        "communitiesFb(30)"
      ],
      "execution_count": 19,
      "outputs": [
        {
          "output_type": "stream",
          "text": [
            "C_id= 0, n= 983 ['1421', '2954', '3350', '3280', '3326', '1098', '1639', '1662', '1003', '1609', '1401', '1476', '3225', '1867', '3188', '2824', '3218', '1538', '1494', '1822', '2904', '3245', '3159', '3196', '3378', '3035', '3019', '3404', '3375', '1615', '1719', '1736', '2957', '1806', '2691', '3295', '1187', '995', '3338', '1909', '1239', '3093', '1302', '1678', '1471', '2950', '1911', '3165', '1879', '1799', '2775', '1050', '3133', '1344', '1852', '1110', '3285', '1746', '3386', '3162', '1803', '3369', '2826', '3124', '3075', '2856', '1172', '3146', '1132', '1289', '3168', '1078', '1641', '1278', '3331', '3239', '1160', '1524', '1735', '3057', '1610', '1908', '2990', '1553', '1708', '2675', '2682', '3214', '2822', '1351', '2772', '1150', '2845', '1116', '1866', '1774', '1832', '2744', '1222', '1900', '1250', '3039', '3292', '2770', '928', '3050', '3211', '3230', '3287', '1209', '1440', '3041', '2665', '3083', '3138', '1173', '1723', '1055', '1619', '1101', '3354', '1849', '1579', '1365', '3347', '2725', '3009', '3406', '2716', '2805', '3005', '2722', '3316', '953', '2902', '1211', '3081', '1274', '2735', '3089', '1670', '3183', '3212', '1637', '1519', '3027', '3252', '1008', '1772', '1572', '3189', '3043', '3377', '3007', '2667', '2939', '1029', '3223', '1407', '2768', '967', '1554', '1144', '3145', '3366', '1816', '2865', '1038', '3111', '946', '3282', '3281', '1805', '2989', '982', '3373', '2720', '3278', '3240', '3194', '1769', '2719', '1542', '2808', '1846', '1685', '3201', '1377', '3242', '1845', '3372', '2796', '1864', '3024', '3244', '1266', '929', '2932', '1201', '1674', '2697', '3425', '3310', '3345', '2895', '1470', '3255', '3117', '3396', '2708', '3376', '3380', '1433', '3018', '2684', '932', '1518', '1069', '1301', '920', '952', '3434', '1460', '2938', '960', '1149', '1445', '1883', '2970', '1086', '3266', '3297', '3053', '3334', '1461', '3067', '3341', '1722', '3320', '1130', '1813', '1398', '3087', '1146', '1516', '1589', '2962', '1491', '916', '1288', '3360', '3100', '2964', '1856', '2693', '1590', '1547', '3216', '3313', '3271', '3357', '3391', '3176', '1705', '1140', '1370', '3259', '3051', '3370', '1839', '3125', '2976', '3312', '2733', '2933', '3106', '1556', '3421', '1393', '973', '1243', '2857', '3305', '2829', '3207', '1230', '2776', '1039', '3076', '899', '3181', '3241', '3267', '1874', '3236', '1765', '908', '1307', '3102', '1750', '1810', '1054', '1792', '1888', '2779', '2868', '2858', '3161', '3416', '1416', '2892', '3178', '3279', '1559', '3321', '3205', '3011', '970', '1184', '1238', '3291', '2780', '2718', '1437', '2760', '3319', '2853', '3222', '2762', '921', '2901', '1061', '3094', '1077', '1033', '2923', '3254', '3013', '1125', '3407', '1034', '1389', '1028', '3167', '3191', '3187', '2688', '3062', '2671', '2818', '2900', '1329', '1498', '1530', '1618', '1902', '3219', '3262', '3192', '3389', '1552', '1775', '3415', '2732', '3206', '3270', '2889', '3235', '1312', '2687', '2849', '2998', '2893', '3058', '1449', '2662', '1488', '3393', '1571', '1285', '3156', '3258', '2860', '3424', '1898', '1835', '3307', '2935', '3015', '3105', '1419', '2831', '3072', '1280', '3020', '2833', '2949', '1272', '1323', '2712', '961', '3306', '1463', '923', '3109', '1375', '1555', '2820', '3091', '2882', '3001', '1779', '1653', '1891', '1651', '3169', '3332', '3323', '3344', '3403', '1058', '3381', '1666', '2871', '3131', '1819', '1335', '2711', '906', '980', '3110', '1821', '1480', '2668', '2918', '3006', '1642', '2863', '3277', '1505', '2894', '1714', '1825', '3248', '1613', '3060', '3179', '1861', '2955', '2737', '2936', '1809', '2997', '1827', '2742', '1107', '1336', '3272', '1604', '3217', '2765', '1593', '1675', '1753', '3337', '2875', '2790', '1707', '3031', '2968', '1485', '1737', '1905', '2922', '3418', '1551', '2961', '1757', '2965', '2942', '1346', '2823', '1283', '1697', '1511', '2802', '2973', '3419', '1182', '1623', '2999', '1088', '2983', '3371', '983', '1390', '3170', '2795', '3017', '3151', '3288', '3379', '1643', '3276', '927', '1026', '2934', '1868', '1700', '1191', '3204', '3385', '1594', '3116', '1734', '2778', '1287', '1689', '3172', '3002', '1087', '2843', '3164', '3420', '3077', '2686', '1128', '3246', '1271', '1434', '1535', '1383', '1376', '1836', '2758', '3355', '3157', '1843', '3061', '1327', '3233', '3140', '2739', '1588', '966', '1367', '1031', '2661', '1024', '3227', '3351', '1207', '2747', '990', '3113', '2713', '2996', '3253', '1580', '3335', '1317', '2870', '2844', '2804', '2886', '1411', '3411', '1603', '2825', '2947', '1409', '2764', '2846', '1600', '3197', '2678', '1793', '3275', '3185', '2752', '2914', '1269', '3336', '1522', '1117', '2930', '2709', '2793', '1073', '1181', '3021', '3365', '3349', '2799', '2878', '3120', '1795', '925', '2674', '1185', '2992', '926', '1534', '3431', '1361', '1509', '1698', '1712', '3152', '1513', '1441', '1688', '2803', '3037', '1360', '2984', '972', '3175', '1620', '3367', '3398', '3342', '3141', '1523', '1584', '2836', '1133', '1668', '1721', '3374', '1074', '1687', '1811', '1877', '2903', '3069', '1163', '1402', '2816', '1380', '3210', '1851', '3032', '1752', '2753', '1458', '1291', '3101', '1352', '1863', '1410', '3066', '1156', '1321', '1724', '3432', '3012', '2715', '1112', '3160', '1195', '1092', '3412', '2840', '1199', '2971', '1520', '3260', '934', '1528', '3209', '3265', '3049', '2759', '3256', '1331', '3383', '2700', '3118', '1075', '3427', '3327', '1040', '2692', '2859', '1123', '1056', '1632', '1049', '3150', '1683', '1196', '1597', '3361', '3103', '1656', '2812', '2979', '1004', '3180', '1251', '1439', '1048', '1205', '1754', '3028', '2748', '1178', '3289', '1091', '2791', '3268', '2842', '991', '1337', '1557', '1047', '1570', '1521', '1644', '2696', '3112', '3070', '1457', '1761', '1339', '1621', '1608', '1797', '3115', '3132', '3171', '3251', '1726', '1068', '3298', '2941', '1175', '3356', '1617', '3221', '3368', '2819', '2728', '1220', '1501', '1076', '2690', '3247', '1730', '2995', '3134', '1180', '3224', '3395', '3401', '3429', '1532', '922', '1768', '2721', '3046', '1702', '1265', '998', '3296', '2883', '1341', '1758', '2898', '1791', '2946', '2781', '3397', '1174', '1405', '3038', '1782', '3121', '2958', '1153', '3329', '2869', '1467', '996', '2672', '1059', '1083', '1563', '2980', '1328', '1669', '1676', '993', '1399', '2783', '2792', '1539', '3203', '3263', '2714', '3190', '1135', '3198', '3186', '1780', '2701', '3208', '1800', '3136', '3422', '1663', '1017', '1442', '3352', '3409', '1741', '1826', '1854', '3358', '897', '1165', '2951', '978', '3402', '1198', '1886', '3126', '2952', '1614', '3340', '3322', '3261', '2787', '1164', '2788', '2771', '3063', '3048', '1771', '1804', '3082', '3154', '3302', '3034', '2832', '1483', '3330', '1388', '3215', '3304', '2811', '1585', '2975', '3016', '1626', '3346', '947', '2855', '2921', '3099', '2734', '1684', '1242', '1431', '2730', '1391', '1622', '1219', '1544', '1161', '1255', '2707', '2685', '3274', '3097', '3328', '2937', '3128', '2784', '3299', '1527', '1420', '2785', '1665', '3182', '1838', '3273', '1537', '1063', '3308', '3408', '2751', '3148', '1823', '1598', '1701', '1136', '3177', '1359', '1796', '1124', '2926', '1023', '1833', '1256', '1564', '2813', '997', '3173', '1605', '2830', '1561', '3200', '1006', '1079', '1157', '1290', '2841', '959', '1817', '3264', '3155', '1330', '2797', '3068', '3086', '2723', '2828', '1456', '1214', '951', '1447', '2848', '1865', '1450', '2861', '3079', '2702', '1369', '1842', '1084', '1517', '2801', '1477', '1267', '3359', '1612', '2677', '3405', '2727', '3353', '1652', '1325', '2736', '1717', '1567', '1789', '1860', '2724', '1305', '2847', '999', '3199', '3410', '1710', '2991', '3122', '3144', '1340', '2881', '2876', '950', '3249', '1484', '1858', '3071', '1659', '3088', '3107', '1126', '3343', '1293']\n",
            "C_id= 1, n= 815 ['1343', '1022', '1019', '1709', '1162', '1748', '1183', '1611', '579', '1043', '596', '1010', '516', '1508', '944', '1574', '948', '369', '1057', '1089', '924', '484', '936', '1783', '395', '1583', '1368', '397', '1423', '1111', '584', '1507', '460', '979', '581', '425', '1725', '617', '1052', '1324', '1241', '919', '471', '398', '1246', '1649', '1731', '1263', '1318', '1320', '977', '553', '630', '614', '1070', '1258', '570', '1582', '1016', '1245', '1129', '488', '497', '1254', '510', '384', '1002', '1526', '641', '521', '372', '472', '1362', '981', '1206', '664', '1268', '1426', '1576', '531', '1763', '1627', '511', '1586', '1395', '1716', '1495', '1432', '910', '1834', '465', '964', '1213', '1767', '1194', '437', '1071', '955', '492', '1686', '1353', '1234', '1453', '1562', '1870', '568', '545', '469', '591', '526', '1166', '1385', '651', '1655', '1001', '1881', '406', '1349', '1907', '685', '1451', '653', '1244', '1036', '1018', '1051', '1876', '1901', '1633', '524', '482', '1785', '556', '1740', '527', '1873', '1422', '618', '1066', '660', '1309', '1794', '403', '457', '361', '1679', '520', '416', '1408', '1540', '463', '1065', '1751', '1773', '985', '1197', '1766', '638', '911', '1200', '1082', '1412', '491', '1217', '417', '930', '592', '904', '1496', '633', '1654', '1692', '404', '1304', '1893', '1680', '1706', '1011', '1253', '1602', '365', '414', '573', '543', '1694', '1744', '571', '989', '1581', '1338', '648', '1560', '434', '1277', '1035', '1690', '663', '1225', '1878', '1448', '1756', '976', '1400', '496', '898', '1366', '1382', '1322', '1252', '1624', '1595', '1897', '1896', '1334', '669', '423', '598', '1009', '569', '470', '391', '1154', '1308', '429', '383', '1403', '513', '1062', '392', '552', '605', '408', '588', '1510', '1474', '1147', '424', '585', '1202', '1529', '1264', '1270', '1890', '1119', '461', '502', '1631', '1759', '382', '1862', '902', '1749', '1081', '1067', '896', '1887', '533', '500', '1418', '435', '1681', '1109', '1636', '1262', '442', '550', '949', '443', '914', '1715', '1884', '1192', '1221', '1840', '480', '674', '352', '389', '562', '1788', '396', '1967', '1625', '1249', '458', '1815', '528', '1143', '1138', '1575', '933', '1828', '354', '1021', '1844', '394', '1801', '415', '1673', '410', '974', '1435', '559', '676', '1396', '1824', '1894', '1841', '505', '1102', '1607', '1742', '644', '677', '456', '610', '1292', '1903', '1384', '1478', '405', '1105', '1415', '1677', '1732', '548', '988', '1134', '1176', '563', '1188', '1745', '561', '984', '107', '1569', '1115', '565', '558', '1413', '390', '1699', '1027', '400', '1259', '1215', '350', '388', '1354', '971', '1727', '1536', '1212', '1275', '349', '1295', '965', '1208', '507', '1455', '1025', '1261', '1743', '1373', '624', '1394', '428', '1499', '1064', '612', '1237', '1671', '1635', '370', '656', '1645', '1885', '1332', '1482', '512', '1808', '1786', '1294', '446', '537', '1041', '1425', '1189', '1326', '1541', '444', '645', '620', '359', '1072', '1591', '1397', '436', '453', '540', '459', '1479', '1204', '1167', '1096', '1374', '1229', '1872', '682', '1013', '1203', '1587', '1599', '366', '1807', '421', '937', '1829', '1490', '1515', '544', '506', '1695', '637', '413', '522', '587', '684', '1303', '1348', '1664', '368', '485', '439', '367', '1310', '1566', '1630', '486', '942', '1469', '358', '387', '1812', '1429', '509', '1306', '626', '1037', '969', '371', '523', '1850', '1728', '1830', '1355', '1616', '412', '1682', '452', '554', '1235', '1226', '1573', '1703', '1871', '541', '680', '606', '1159', '1889', '1503', '450', '1046', '514', '1638', '1151', '683', '1007', '1392', '679', '1142', '407', '538', '994', '1014', '1847', '1357', '1462', '422', '634', '956', '1300', '495', '420', '567', '918', '616', '1236', '539', '666', '1223', '1781', '1661', '1646', '1814', '411', '478', '900', '1487', '360', '1233', '534', '1155', '1606', '909', '1853', '560', '1910', '968', '1094', '1012', '1169', '1506', '479', '356', '1417', '355', '671', '915', '678', '1284', '1514', '1227', '503', '1042', '555', '913', '1778', '1281', '1436', '1053', '376', '1545', '1790', '625', '1231', '489', '1386', '1859', '357', '962', '375', '917', '557', '945', '1729', '1481', '1045', '532', '629', '1260', '1406', '1168', '1777', '378', '1030', '1446', '1114', '1497', '1504', '1691', '1739', '611', '1760', '1875', '1414', '1464', '475', '432', '494', '1525', '490', '593', '348', '1080', '1273', '448', '935', '1444', '481', '1473', '1356', '1650', '1120', '1693', '1179', '1647', '374', '477', '1558', '1713', '597', '594', '1430', '589', '529', '1248', '1738', '1347', '1298', '379', '604', '957', '451', '517', '1316', '1032', '1020', '905', '939', '1299', '608', '940', '1546', '1443', '508', '438', '1543', '1364', '1358', '1820', '601', '1177', '1500', '499', '907', '519', '1660', '373', '1459', '1127', '1640', '498', '1672', '1257', '943', '631', '1466', '380', '621', '623', '655', '1095', '1228', '1210', '1657', '530', '1158', '1755', '1141', '1247', '1578', '504', '1103', '1667', '535', '483', '572', '1113', '1122', '385', '1345', '467', '1218', '1342', '447', '1190', '642', '462', '609', '1313', '493', '1711', '636', '1592', '1848', '1454', '1906', '672', '386', '1404', '1502', '433', '580', '603', '445', '1372', '1628', '613', '667', '1286', '418', '551', '1512', '1104', '1108', '575', '987', '1720', '1044', '1015', '1857', '1282', '1704', '607', '518', '449', '639', '547', '1770', '430', '536', '1350', '515', '649', '402', '455', '931', '1696', '1818', '1882', '1315', '377', '1131', '652', '542', '363', '1379', '1005', '1565', '419', '574', '1240', '1276', '941', '1145', '1099', '546', '1093', '668', '468', '1475', '1658', '1428', '1000', '1224', '1831', '1381', '362', '1550', '673', '1899', '1492', '1090', '1170', '1279', '1106', '590', '1904', '986', '1869', '954', '440', '657', '1148', '1764', '1489', '1596', '646', '1060', '1371', '912', '1427', '1762', '1855', '975', '426', '1152', '1531', '1100', '431', '1311', '487', '1121', '602', '1634', '586', '619', '1296', '1472', '401', '474', '473', '622', '1438', '566', '525', '466', '1139', '1776', '654', '381', '409', '353']\n",
            "C_id= 2, n= 548 ['3716', '3698', '3503', '3891', '3472', '3956', '3656', '3873', '3494', '3811', '3440', '3463', '3594', '3699', '3679', '3818', '3567', '3671', '3611', '3473', '3897', '3688', '3859', '3519', '3650', '3790', '3544', '3620', '3713', '3514', '3590', '3693', '3715', '3640', '3695', '3822', '3516', '3482', '3705', '3870', '3527', '3709', '3506', '3687', '3815', '3825', '3449', '3727', '3717', '3704', '3447', '3942', '3462', '3936', '3875', '3905', '3499', '3559', '3896', '3741', '3791', '3772', '3738', '3618', '3549', '3743', '3453', '3889', '3646', '3823', '3622', '3765', '3665', '862', '3910', '3523', '3531', '3673', '3562', '3881', '3577', '3488', '3614', '3943', '3966', '3749', '3633', '3496', '3663', '3505', '3776', '3658', '3965', '3779', '3894', '3597', '865', '3844', '3669', '3638', '3730', '3757', '3939', '3608', '3566', '3490', '3605', '3598', '3960', '3504', '3958', '3947', '3944', '3707', '3443', '3915', '3677', '3830', '3718', '3452', '3644', '3841', '3789', '3816', '3641', '3759', '3551', '3550', '3484', '3937', '3959', '3725', '3684', '3908', '3522', '3479', '3852', '3691', '3797', '3649', '3652', '3804', '3595', '3796', '3736', '3809', '3643', '3872', '3599', '3613', '3978', '3750', '3661', '3737', '3887', '3583', '3930', '3783', '3874', '3931', '3813', '3538', '3485', '3548', '3767', '3903', '3760', '3474', '3708', '3847', '3552', '3616', '3977', '3689', '3799', '3833', '3683', '3637', '3701', '3829', '3824', '3786', '3839', '3856', '3771', '3778', '3626', '3457', '3861', '3782', '3675', '3557', '3579', '3880', '3477', '3808', '3788', '3625', '3927', '3508', '3444', '3572', '3712', '3746', '3711', '3533', '3667', '3938', '3979', '3734', '3917', '3864', '3470', '3758', '3792', '3500', '3964', '3441', '3681', '3478', '3584', '3949', '3922', '3920', '3898', '3802', '3754', '3832', '3850', '3726', '3648', '3498', '3593', '3612', '3858', '3769', '3860', '3627', '3777', '3827', '3837', '3581', '3731', '3780', '3547', '3935', '3511', '3539', '3518', '3439', '3486', '3945', '3515', '3532', '3720', '3454', '3879', '3541', '3724', '3674', '3807', '3972', '3461', '3471', '3895', '3952', '3906', '3766', '3561', '3609', '3647', '3775', '3451', '3933', '3940', '3851', '3733', '3793', '3781', '3885', '3729', '3902', '3546', '3921', '3568', '3890', '3438', '3748', '3753', '3934', '3582', '3697', '3636', '3871', '3955', '3764', '3585', '3571', '3883', '3655', '3846', '3805', '3596', '3970', '3668', '3901', '3501', '3918', '3458', '3601', '3660', '3553', '3487', '3603', '1085', '3828', '3862', '3710', '3831', '3848', '3787', '3555', '3651', '3763', '3706', '3630', '3631', '3932', '3610', '3653', '3517', '3556', '3591', '3909', '3768', '3442', '3843', '3554', '3762', '3834', '3528', '3899', '3876', '3925', '3460', '3853', '3692', '3445', '3624', '3795', '3740', '3537', '3801', '3632', '3520', '3563', '3744', '3542', '3928', '3621', '3670', '3592', '3722', '3696', '3761', '3941', '3446', '3924', '3912', '3639', '3635', '3752', '3483', '3904', '3849', '3578', '3702', '3714', '3728', '3961', '3606', '3560', '3840', '3497', '3751', '3530', '3623', '3817', '3495', '3884', '3703', '3756', '3865', '3558', '3617', '3739', '3700', '3510', '3476', '3588', '3685', '3842', '3968', '3607', '3923', '3666', '3814', '3682', '3855', '3806', '3604', '3868', '3951', '3615', '3946', '3820', '3459', '3536', '3437', '3662', '3678', '3455', '3491', '3467', '3535', '3680', '3573', '3509', '3513', '857', '3450', '3962', '3963', '3448', '3634', '3867', '3877', '3836', '3893', '3672', '3755', '3481', '3543', '3926', '3878', '3580', '3628', '3770', '3975', '3957', '3489', '3512', '3892', '3913', '3466', '3480', '3803', '3785', '3911', '3857', '3919', '3916', '3659', '3973', '3587', '3602', '3967', '3564', '3589', '3657', '3826', '3586', '3629', '3575', '3976', '3888', '3907', '3784', '3845', '3600', '3954', '3642', '3735', '3576', '3676', '3953', '3971', '3854', '3810', '3950', '3774', '3465', '3664', '3974', '3742', '3723', '3525', '3502', '3747', '3800', '3574', '3469', '3521', '3886', '3694', '3456', '3540', '3819', '3745', '3529', '868', '3570', '3798', '3812', '3493', '3900', '3969', '3464', '3721', '3565', '3863', '3835', '3794', '3821', '3732', '3866', '3773', '3526', '3948', '3690', '3929', '3492', '3654', '3882', '3719', '3524', '3545', '3569', '3838', '3534', '3914', '3475', '3686', '3507', '3468', '3869', '3645', '3619']\n",
            "C_id= 3, n= 543 ['1942', '2114', '2371', '2268', '2159', '2147', '2622', '2534', '2567', '2270', '2133', '2358', '2209', '2080', '2038', '2599', '2102', '2391', '2628', '2175', '2432', '2315', '2070', '2171', '2449', '1957', '2320', '1912', '2332', '2101', '2151', '2479', '2254', '1930', '2335', '2488', '2483', '2138', '2382', '2380', '2389', '2368', '1931', '2451', '2296', '1982', '2513', '1940', '1934', '2230', '2052', '2065', '2421', '2304', '2282', '2182', '2424', '2274', '2191', '2162', '2107', '2224', '2390', '2313', '2183', '2535', '2032', '2279', '2529', '2577', '2621', '2373', '2610', '2620', '2441', '2236', '2072', '2116', '2438', '2431', '2001', '2557', '2474', '2067', '2217', '2292', '2379', '2238', '2128', '2583', '2284', '2490', '2196', '2648', '2174', '2656', '2214', '2336', '1955', '2473', '2239', '2076', '2419', '2269', '2034', '2497', '2208', '1978', '2383', '2255', '2401', '2456', '2525', '2634', '2153', '2527', '2510', '2364', '2538', '2000', '2221', '2297', '2595', '1926', '2015', '2099', '2022', '1973', '2406', '2012', '2160', '2241', '2594', '2181', '1981', '2177', '2343', '2008', '2412', '1974', '2071', '2293', '1976', '1994', '2402', '2047', '2384', '2066', '2048', '2249', '2096', '1995', '1998', '2517', '2291', '2027', '2029', '2100', '2106', '2018', '2328', '2143', '2264', '2289', '2405', '2365', '2170', '2050', '1951', '1990', '2129', '1952', '2569', '2647', '2609', '1991', '2277', '2044', '2333', '1968', '2501', '2547', '2161', '2243', '1969', '2314', '2127', '2629', '2202', '2351', '2016', '2420', '2509', '2341', '2081', '2330', '2572', '1948', '1977', '2644', '2117', '2082', '2144', '2111', '2457', '2459', '2643', '2528', '2375', '2009', '2453', '2113', '2566', '2205', '2642', '2145', '2584', '1920', '2119', '2222', '2357', '2198', '2639', '1718', '1928', '2187', '1964', '2436', '2653', '1913', '2091', '2310', '2149', '2461', '2004', '2416', '2603', '2248', '2435', '2612', '2180', '2523', '2219', '2344', '1945', '2463', '1923', '2207', '2053', '1914', '2543', '2148', '2657', '2636', '2061', '2316', '2434', '2245', '2286', '1956', '1922', '2645', '2267', '2325', '2537', '2168', '1996', '2272', '2347', '2256', '2235', '1465', '1961', '2189', '2568', '1970', '2014', '2262', '2411', '2163', '2498', '1932', '2425', '2585', '2396', '2193', '2204', '2617', '2659', '2023', '2013', '2169', '2605', '2321', '2555', '2640', '1919', '2036', '2598', '2487', '2025', '2130', '2426', '2026', '2388', '2444', '2305', '1965', '2455', '2515', '2225', '2337', '2259', '2134', '2427', '2318', '1947', '2387', '2019', '2192', '2452', '2518', '2413', '2135', '2580', '2530', '2505', '2393', '2011', '2263', '2002', '2361', '2295', '2355', '2223', '2319', '1936', '2132', '2439', '2531', '2350', '2633', '2533', '2194', '2608', '2440', '2545', '2476', '2092', '2228', '2632', '2650', '2265', '2054', '2199', '2582', '2544', '2105', '2519', '2626', '2447', '1927', '2087', '2480', '2471', '2312', '2522', '2511', '2562', '2260', '2458', '2618', '2285', '2215', '2197', '1944', '2173', '1941', '2195', '2385', '1937', '2280', '2156', '2345', '2283', '1935', '2094', '2028', '2576', '2417', '2010', '2429', '2231', '2342', '2437', '2592', '2445', '1960', '2649', '2443', '2651', '2079', '2472', '2422', '2514', '2478', '2057', '1939', '2322', '2327', '2581', '2378', '2346', '2570', '2006', '1915', '1999', '2089', '2399', '2597', '1987', '2250', '2508', '2475', '2141', '2298', '2635', '2203', '2085', '2125', '2166', '2450', '1980', '2503', '2548', '2565', '2167', '2252', '2587', '2185', '1577', '2120', '2288', '2541', '2614', '2007', '2493', '2155', '2110', '2394', '1992', '2415', '2367', '1933', '1916', '2470', '2039', '2234', '2596', '2616', '2641', '2051', '2024', '2041', '2232', '2637', '2097', '1949', '2251', '2512', '2003', '2158', '2301', '2496', '2397', '2294', '2058', '2137', '2466', '1958', '2211', '2017', '2658', '2042', '2152', '2366', '1921', '2186', '2031', '2516', '2491', '2481', '2178', '2338', '2454', '2377', '1950', '2075', '2494', '2302', '2558', '2281', '2372', '1975', '2176', '2588', '2146', '2403', '2247', '2049', '2360', '2627', '2246', '2589', '1988', '2273', '2660', '2062', '2486', '2398', '2540', '1959', '1972', '2349', '2652', '2068', '1954', '2303', '2242', '2362', '2502', '2448', '2571', '2400', '2317', '2157', '2035', '2227', '2468', '2226', '1924', '2465', '2126']\n",
            "C_id= 4, n= 372 ['115', '214', '1297', '122', '73', '272', '29', '129', '143', '329', '43', '242', '280', '210', '278', '273', '168', '88', '20', '311', '97', '309', '207', '323', '338', '1549', '90', '201', '213', '28', '119', '324', '13', '196', '256', '58', '145', '245', '57', '141', '289', '9', '274', '277', '101', '4', '47', '253', '305', '314', '82', '61', '399', '23', '65', '1193', '53', '235', '146', '206', '84', '94', '117', '291', '224', '262', '136', '138', '301', '321', '252', '261', '150', '42', '103', '35', '333', '180', '154', '236', '128', '345', '217', '268', '86', '265', '174', '127', '153', '176', '95', '189', '8', '121', '10', '318', '137', '300', '22', '62', '120', '393', '0', '1171', '279', '89', '46', '232', '501', '202', '254', '111', '218', '327', '167', '139', '238', '250', '325', '144', '308', '454', '337', '48', '52', '21', '364', '161', '344', '346', '288', '264', '79', '102', '203', '14', '63', '83', '116', '310', '330', '77', '249', '6', '110', '326', '147', '105', '31', '212', '5', '125', '184', '148', '271', '225', '108', '267', '39', '258', '303', '339', '204', '234', '295', '248', '3003', '25', '37', '187', '2814', '26', '302', '151', '216', '313', '64', '292', '165', '198', '76', '170', '332', '223', '123', '257', '32', '244', '96', '347', '200', '351', '38', '140', '1387', '15', '98', '166', '220', '193', '239', '183', '70', '304', '132', '190', '297', '281', '564', '230', '56', '158', '19', '195', '270', '231', '133', '464', '233', '276', '27', '171', '126', '67', '199', '85', '106', '343', '2704', '59', '243', '251', '60', '100', '219', '179', '112', '320', '227', '2885', '142', '91', '284', '2740', '164', '87', '109', '41', '259', '99', '72', '69', '335', '118', '40', '240', '163', '476', '312', '185', '315', '1', '71', '66', '152', '211', '186', '12', '342', '197', '287', '340', '92', '113', '266', '74', '75', '317', '331', '226', '188', '260', '205', '134', '319', '155', '131', '316', '181', '194', '294', '7', '441', '341', '68', '228', '104', '192', '275', '2838', '3', '221', '33', '16', '2', '24', '49', '298', '293', '178', '322', '282', '328', '130', '114', '124', '246', '208', '177', '191', '334', '237', '44', '269', '34', '156', '209', '45', '157', '336', '51', '78', '286', '307', '54', '81', '3290', '285', '296', '549', '50', '290', '80', '93', '162', '173', '427', '172', '135', '30', '55', '159', '222', '299', '215', '175', '1486', '306', '149', '263', '36', '17', '241', '229', '18', '283', '255', '182', '160', '169', '247', '11']\n",
            "C_id= 5, n= 219 ['2741', '2919', '3433', '2927', '3119', '3153', '2755', '3114', '2874', '2974', '3010', '2985', '2931', '2905', '2978', '2673', '3300', '3363', '3095', '2896', '2663', '3269', '3284', '2988', '2786', '2769', '3417', '2872', '3324', '3399', '2757', '3384', '3042', '3022', '3436', '2866', '2683', '2821', '3044', '3143', '2706', '2851', '2679', '2917', '2994', '3029', '2726', '3078', '2750', '2907', '2827', '3014', '3315', '3000', '2929', '3174', '3084', '3163', '2945', '2756', '3293', '2746', '3364', '2852', '2899', '3096', '3158', '3237', '3414', '2731', '3394', '2913', '3193', '2880', '3231', '3026', '3229', '3104', '2680', '3390', '2969', '3220', '3149', '2924', '3129', '3294', '2850', '2963', '3052', '3426', '3073', '3085', '3348', '2884', '3023', '2807', '3430', '2761', '3108', '2891', '3025', '3303', '2960', '3142', '2873', '3400', '2763', '2809', '2943', '2987', '3234', '3090', '3202', '3243', '3362', '2967', '2837', '3092', '3232', '2689', '2835', '3059', '2956', '2664', '3238', '2749', '3286', '3195', '2669', '3054', '3387', '2916', '3004', '3257', '2717', '2676', '2911', '2710', '2854', '2906', '2966', '3130', '2743', '3413', '3428', '2794', '2777', '2666', '3392', '2754', '2705', '2925', '3388', '3139', '2738', '2698', '2862', '2681', '2888', '3047', '3166', '2940', '3080', '2789', '2773', '2944', '3135', '2766', '2897', '2782', '2928', '2993', '3228', '2867', '2920', '3056', '3033', '3213', '2694', '3301', '2839', '3317', '2877', '2887', '2908', '2953', '3065', '2948', '2981', '2800', '3123', '2912', '3064', '3250', '2864', '3333', '2729', '2909', '2890', '2910', '3036', '2977', '2915', '3435', '2810', '3226', '2806', '3137', '2745', '3184', '3030', '3040', '3339', '2815', '2695', '3045', '2986', '3098', '2798']\n",
            "C_id= 6, n= 208 ['2591', '2536', '1993', '2188', '2190', '2299', '1986', '2020', '1953', '2615', '2218', '2376', '2504', '2559', '2590', '2619', '2374', '2654', '2184', '2112', '1962', '2124', '2276', '2363', '2428', '1983', '2073', '2326', '2423', '2095', '1966', '2090', '2059', '2593', '2308', '2213', '2271', '2324', '1929', '2352', '2551', '2467', '2556', '2172', '1989', '2430', '2123', '1979', '2212', '2278', '2552', '2040', '2404', '2088', '1971', '2359', '2623', '2140', '2638', '2526', '2064', '2624', '2579', '2290', '1984', '2300', '2554', '2287', '2165', '2339', '2574', '2139', '1985', '2625', '2323', '2237', '2103', '2142', '2257', '2340', '2507', '2306', '2482', '2179', '2154', '2499', '2602', '2630', '2233', '2500', '2395', '2521', '2240', '2329', '2485', '2561', '1997', '2206', '2084', '2563', '2083', '2369', '2244', '2607', '1963', '2056', '2005', '2210', '2520', '2060', '2200', '2266', '2037', '2115', '2078', '2033', '2353', '2564', '2109', '2220', '2150', '2121', '2334', '2093', '2524', '2063', '2201', '2489', '2546', '2229', '2136', '2484', '2575', '2646', '1938', '2055', '2118', '2407', '2573', '2030', '1918', '2606', '2021', '2253', '2104', '2492', '2442', '2477', '2408', '2043', '2164', '2392', '2464', '2307', '2098', '2309', '2460', '1943', '2549', '2046', '2108', '2560', '2418', '2258', '2506', '2655', '2261', '2069', '2409', '2631', '2386', '2086', '2331', '2600', '2077', '2122', '2433', '2045', '1946', '2495', '2356', '2578', '2613', '2532', '2469', '2586', '1925', '2462', '2074', '2216', '2542', '2446', '2611', '2275', '2348', '2410', '2604', '1917', '2550', '2381', '2311', '2414', '2131', '2370', '2601', '2553', '2539', '2354']\n",
            "C_id= 7, n= 206 ['863', '815', '853', '885', '689', '813', '785', '743', '811', '750', '778', '783', '807', '771', '787', '858', '694', '799', '859', '877', '775', '804', '861', '761', '817', '733', '838', '871', '798', '730', '875', '793', '828', '715', '788', '713', '725', '806', '714', '795', '744', '812', '850', '846', '870', '821', '701', '707', '792', '818', '712', '860', '869', '842', '735', '700', '830', '824', '867', '884', '734', '841', '882', '763', '702', '814', '726', '822', '894', '721', '801', '873', '880', '738', '769', '696', '706', '729', '848', '711', '790', '710', '764', '768', '820', '722', '831', '883', '747', '800', '719', '770', '803', '833', '693', '779', '791', '819', '745', '876', '780', '836', '732', '727', '844', '891', '718', '731', '754', '741', '796', '827', '889', '825', '688', '705', '724', '752', '834', '839', '695', '895', '866', '756', '757', '872', '852', '886', '749', '774', '686', '728', '766', '758', '832', '746', '835', '717', '753', '765', '823', '837', '864', '699', '892', '691', '879', '840', '855', '786', '845', '784', '810', '805', '781', '767', '854', '856', '893', '704', '777', '851', '737', '760', '874', '881', '740', '878', '720', '847', '802', '709', '794', '773', '698', '703', '690', '887', '723', '816', '843', '849', '755', '751', '890', '692', '762', '742', '808', '716', '789', '809', '782', '826', '776', '797', '888', '739', '687', '772', '829', '759', '748', '697', '736', '708']\n",
            "C_id= 8, n= 59 ['4011', '4031', '4002', '3986', '4023', '3994', '3993', '4025', '4006', '4014', '4019', '4035', '3981', '4020', '4038', '4005', '4010', '4034', '3983', '3992', '4022', '4037', '4016', '4029', '4018', '4033', '4000', '3985', '3999', '3989', '4004', '4015', '4008', '4001', '4003', '4021', '3984', '3991', '3998', '3982', '4032', '3996', '3988', '4028', '4036', '3997', '3995', '4024', '4026', '4027', '4017', '3980', '4012', '4013', '3990', '3987', '4007', '4030', '4009']\n",
            "C_id= 9, n= 37 ['1895', '1601', '1468', '1097', '1378', '1733', '1747', '1137', '903', '1548', '1118', '992', '1837', '1880', '1892', '963', '901', '1216', '1319', '1232', '1784', '1424', '1568', '1802', '1452', '1314', '1533', '1629', '1333', '1186', '1648', '958', '1493', '1787', '1798', '1363', '938']\n"
          ],
          "name": "stdout"
        }
      ]
    },
    {
      "cell_type": "markdown",
      "metadata": {
        "id": "Qn49nQ4z5Oxm",
        "colab_type": "text"
      },
      "source": [
        "**Milestone 2.** Complete Tasks 3-4. (10 days.)"
      ]
    },
    {
      "cell_type": "markdown",
      "metadata": {
        "id": "pTIb9HgH5kl7",
        "colab_type": "text"
      },
      "source": [
        "**4. Closed Subnetworks.** \n",
        "In a Twitter-like social network there are subsets of people forming ‘closed sub networks’. Such people do not follow anyone else outside their sub network, and only follow other people within their sub network (but not all of them). People outside that sub network do follow people that are part of the subnetwork. For example, famous people on Twitter tend to not follow too many other people, except other famous people. So,they may be forming sub networks of famous people. \n",
        "\n",
        "**Task 5.** \n",
        "\n",
        "Write code that ﬁnds and reports all closed subnetworks of a Twitter-like network. More speciﬁcally, write code that computes the decomposition of the network into strongly connected components. The output must be an array S with n entries, where n is the number of the nodes in the graph. Each strongly connected component should have an id number. Then, S[i] must be equal to the ID number of the strongly connected component that contains node i."
      ]
    },
    {
      "cell_type": "markdown",
      "metadata": {
        "id": "EwHhBF147qPH",
        "colab_type": "text"
      },
      "source": [
        "Using Kosaraju’s algorithm, we can find strongly connected components in in O(V+E) time. The algorithm calls DFS (Depth first search), finds the reverse of the graph and again calls DFS. DFS takes O(V+E) for a graph represented using the adjacency list. Reversing a graph also takes O(V+E) time. For reversing the graph, we simple traverse all adjacency lists."
      ]
    },
    {
      "cell_type": "code",
      "metadata": {
        "id": "eYbWpnD8CK2b",
        "colab_type": "code",
        "colab": {}
      },
      "source": [
        "from collections import defaultdict \n",
        "  \n",
        "class Graph: \n",
        "\n",
        "    def __init__(self,vertices): \n",
        "        self.V= vertices                 # # of vertices         \n",
        "        self.graph = defaultdict(list)   # default dictionary to store graph          \n",
        "        self.Time = 0\n",
        "   \n",
        "    def addEdge(self,u,v):               # function to add an edge to graph \n",
        "        self.graph[u].append(v) \n",
        "\n",
        "    def SCCUtil(self,u, low, disc, stackMember, st): \n",
        "        disc[u] = self.Time             # Initialize discovery time and low value \n",
        "        low[u] = self.Time \n",
        "        self.Time += 1\n",
        "        stackMember[u] = True\n",
        "        st.append(u) \n",
        "  \n",
        "        for v in self.graph[u]:               \n",
        "            if disc[v] == -1 :               \n",
        "                self.SCCUtil(v, low, disc, stackMember, st) \n",
        "                low[u] = min(low[u], low[v])                          \n",
        "            elif stackMember[v] == True:   \n",
        "                low[u] = min(low[u], disc[v]) \n",
        "  \n",
        "        w = -1 # To store stack extracted vertices \n",
        "        gh=[]\n",
        "        if low[u] == disc[u]: \n",
        "            while w != u: \n",
        "                w = st.pop() \n",
        "                gh.append(w)\n",
        "                stackMember[w] = False \n",
        "            print(gh)                  \n",
        "              \n",
        "    def SCC(self): \n",
        "        disc = [-1] * (self.V) \n",
        "        low = [-1] * (self.V) \n",
        "        stackMember = [False] * (self.V) \n",
        "        st =[] \n",
        "          \n",
        "        for i in range(self.V): \n",
        "            if disc[i] == -1: \n",
        "                self.SCCUtil(i, low, disc, stackMember, st)   "
      ],
      "execution_count": 25,
      "outputs": []
    },
    {
      "cell_type": "code",
      "metadata": {
        "id": "KSxkkYH_8iw2",
        "colab_type": "code",
        "colab": {
          "base_uri": "https://localhost:8080/",
          "height": 102
        },
        "outputId": "4337eb94-99f1-4793-f133-e8ad1ac2f218"
      },
      "source": [
        "g1 = Graph(6) \n",
        "g1.addEdge(1, 2) \n",
        "g1.addEdge(0, 1) \n",
        "g1.addEdge(2, 1) \n",
        "g1.addEdge(1, 0) \n",
        "g1.addEdge(3, 4) \n",
        "g1.addEdge(4, 5)\n",
        "print(\"The strongly connected components in the graph are: \")\n",
        "g1.SCC() "
      ],
      "execution_count": 33,
      "outputs": [
        {
          "output_type": "stream",
          "text": [
            "The strongly connected components in the graph are: \n",
            "[2, 1, 0]\n",
            "[5]\n",
            "[4]\n",
            "[3]\n"
          ],
          "name": "stdout"
        }
      ]
    },
    {
      "cell_type": "markdown",
      "metadata": {
        "id": "xgWa3TdP6IFD",
        "colab_type": "text"
      },
      "source": [
        "**4. A recommendation engine.** \n",
        "\n",
        "Three persons P1, P2, P3 form a length-3 following chain if a person P1 follows person P2, and person P2 follows P3. Given a length-3 following chain, it may make sense to recommend to P1 to follow person P3. It may make even more sense doing that if there are several 3- following chains between P1 and P3. \n",
        "\n",
        "**Task 6.** \n",
        "\n",
        "Write code that takes as input two persons P and P0 and a number k, ﬁnds the number of length-k following chains that connect P to P0."
      ]
    },
    {
      "cell_type": "markdown",
      "metadata": {
        "id": "JfB-nQWrjRLJ",
        "colab_type": "text"
      },
      "source": [
        "In the below code, we can accomplish this. The code finds the number of paths of length-k in a directed graph. N represents the vertices, and k represents the length of the path. The graph is represented by the adjacency matrix where G[i][j]=1 is an edge from vertex i to j, and G[i][j]=0 represents no edge. \n",
        "\n",
        "The time complexity is O((|V|^2)*log(k)), where V is the number of vertices and k is the length of the path. This is the time complexity since we multiply the adjacency matrix log(k) times. "
      ]
    },
    {
      "cell_type": "code",
      "metadata": {
        "id": "LEs8gYucGATZ",
        "colab_type": "code",
        "colab": {}
      },
      "source": [
        "N = 2  # Vertices- Person P and P0 in this case. \n",
        "def multiply(a, b, res) :    \n",
        "    mul = np.zeros((N,N));        \n",
        "    for i in range(N) : \n",
        "        for j in range(N) : \n",
        "            mul[i][j] = 0;  \n",
        "            for k in range(N) :  \n",
        "                mul[i][j] += a[i][k] * b[k][j];  \n",
        "    for i in range(N) : \n",
        "        for j in range(N) : \n",
        "            res[i][j] = mul[i][j];  \n",
        "  \n",
        "def power(G, res, n) :  \n",
        "    if (n == 1) : \n",
        "        for i in range(N) :  \n",
        "            for j in range(N) : \n",
        "                res[i][j] = G[i][j];  \n",
        "        return;  \n",
        "    power(G, res, n // 2);   \n",
        "    multiply(G, G, res);  \n",
        "    if (n % 2 != 0) : \n",
        "        multiply(res, G, res);  "
      ],
      "execution_count": 90,
      "outputs": []
    },
    {
      "cell_type": "code",
      "metadata": {
        "id": "n2bNJwrvGAXC",
        "colab_type": "code",
        "colab": {
          "base_uri": "https://localhost:8080/",
          "height": 51
        },
        "outputId": "052a5b9f-bd84-47fc-8317-8d09f8923bfd"
      },
      "source": [
        "if __name__ == \"__main__\" :  \n",
        "    G = [[ 1, 1 ],  \n",
        "         [ 0, 0 ]];   \n",
        "    k = 2;  # Length k\n",
        "    res = np.zeros((N,N));    \n",
        "    power(G, res, k);   \n",
        "    for i in range(N) : \n",
        "        for j in range(N) : \n",
        "            print(res[i][j],end = \" \");           \n",
        "        print() "
      ],
      "execution_count": 91,
      "outputs": [
        {
          "output_type": "stream",
          "text": [
            "1.0 1.0 \n",
            "0.0 0.0 \n"
          ],
          "name": "stdout"
        }
      ]
    },
    {
      "cell_type": "markdown",
      "metadata": {
        "id": "fqlhJtPOiBVb",
        "colab_type": "text"
      },
      "source": [
        "Number of paths from 0 to 0 of length k is 1({0->0->0})\n",
        "\n",
        "Number of paths from 0 to 1 of length k are 1({0->0->1})"
      ]
    },
    {
      "cell_type": "markdown",
      "metadata": {
        "id": "FBWjEA7a6vEi",
        "colab_type": "text"
      },
      "source": [
        "**Milestone 3.** Complete tasks 5-6. (10 days)\n",
        "\n",
        "Grading Notes: Milestone 1 and 2 should be completed by all. We have already essentially done these tasks. For milestone 3, students in the alternative track can use Python package networkx. This should be relatively easier, as the only thing required is to read the manual of some ready-made functions, and apply them on your data. For other students, task 5 requires writing code for ﬁnding a DFS of a graph. If you want to avoid that, you can also use networkxx for a deduction of 2/20 points. But the rest of the implementation should be yours"
      ]
    }
  ]
}